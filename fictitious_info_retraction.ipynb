{
 "cells": [
  {
   "cell_type": "markdown",
   "id": "e4342e05-355f-4b63-a481-fbe2736f3605",
   "metadata": {},
   "source": [
    "# Fictitious info retraction experiments\n",
    "\n",
    "This notebook contains the code used for the fictitious info retraction experiments in our paper."
   ]
  },
  {
   "cell_type": "markdown",
   "id": "d90c98d6-d3ef-4b89-ba27-348c07b54533",
   "metadata": {},
   "source": [
    "# Setup"
   ]
  },
  {
   "cell_type": "markdown",
   "id": "ed24eede-0298-433d-b6ea-482ad8f8ef0b",
   "metadata": {},
   "source": [
    "Import required libraries."
   ]
  },
  {
   "cell_type": "code",
   "execution_count": 1,
   "id": "2128079c-1004-41d6-9318-44592745f5cb",
   "metadata": {},
   "outputs": [],
   "source": [
    "import transformer_lens\n",
    "import matplotlib.pyplot as plt\n",
    "from transformers import AutoTokenizer, AutoModelForCausalLM\n",
    "import torch\n",
    "import pickle\n",
    "\n",
    "import steering_opt\n",
    "import get_dataset\n",
    "\n",
    "import numpy as np\n",
    "import tqdm"
   ]
  },
  {
   "cell_type": "markdown",
   "id": "9171ec78-1573-48b4-99bf-081649b0f941",
   "metadata": {},
   "source": [
    "Load our instruction-tuned model."
   ]
  },
  {
   "cell_type": "code",
   "execution_count": 30,
   "id": "da2b8e79-6636-43e9-950e-61bf335ed0d7",
   "metadata": {},
   "outputs": [
    {
     "name": "stderr",
     "output_type": "stream",
     "text": [
      "Loading checkpoint shards: 100%|██████████████████| 2/2 [00:51<00:00, 25.75s/it]\n"
     ]
    }
   ],
   "source": [
    "device = 'cuda:7'\n",
    "torch.set_default_device(device)\n",
    "torch.cuda.set_device(device)\n",
    "\n",
    "tokenizer = AutoTokenizer.from_pretrained(\"google/gemma-2-2b-it\")\n",
    "model = AutoModelForCausalLM.from_pretrained(\"google/gemma-2-2b-it\").to(dtype=torch.bfloat16)\n",
    "\n",
    "tokenizer = tokenizer\n",
    "model = model.to(device=device)"
   ]
  },
  {
   "cell_type": "markdown",
   "id": "6783e346-f928-4dc5-ae22-0980bde37c73",
   "metadata": {},
   "source": [
    "Some helpful functions."
   ]
  },
  {
   "cell_type": "code",
   "execution_count": 2,
   "id": "7ea1cd4f-efe7-4f1d-8db8-b4f65961e7c3",
   "metadata": {},
   "outputs": [],
   "source": [
    "from functools import reduce\n",
    "flatten = lambda z: reduce(lambda x,y: x+y, z)\n",
    "\n",
    "import gc\n",
    "def unoom():\n",
    "    gc.collect()\n",
    "    torch.cuda.empty_cache()"
   ]
  },
  {
   "cell_type": "markdown",
   "id": "21118cc1-cbae-4f86-872a-ac0b210bbefb",
   "metadata": {},
   "source": [
    "# Section 3.1: get steered generations\n",
    "\n",
    "This section contains code for getting steered model generations using the different steering methods tested in Section 3.1: promotion steering, suppression steering, reentrant steering, and CAA steering (skyline).\n",
    "\n"
   ]
  },
  {
   "cell_type": "markdown",
   "id": "e6996ab3-1068-4c8d-b204-6575079254e7",
   "metadata": {},
   "source": [
    "## Unsteered generations\n",
    "\n",
    "As a baseline, generate completions for our fictitious prompts without using any steering vectors."
   ]
  },
  {
   "cell_type": "code",
   "execution_count": 27,
   "id": "02c42742-a2a1-4513-bdc8-f389a7dd18c2",
   "metadata": {},
   "outputs": [
    {
     "name": "stdout",
     "output_type": "stream",
     "text": [
      "85\n"
     ]
    },
    {
     "name": "stdout",
     "output_type": "stream",
     "text": [
      "22.242743968963623\n",
      "torch.Size([85, 242])\n",
      "97\n",
      "19.236999034881592\n",
      "torch.Size([97, 259])\n",
      "85\n",
      "14.45975637435913\n",
      "torch.Size([85, 223])\n",
      "76\n",
      "20.33755397796631\n",
      "torch.Size([76, 322])\n",
      "80\n",
      "22.316227197647095\n",
      "torch.Size([80, 332])\n",
      "96\n",
      "20.734482049942017\n",
      "torch.Size([96, 275])\n"
     ]
    }
   ],
   "source": [
    "unsteered_generations = [ [] for _ in range(len(get_dataset.split_names)) ]\n",
    "import time\n",
    "cleanup = lambda x: x.replace('<bos>', '').replace('<eos>', '').replace('<pad>', '')\n",
    "for i in range(len(get_dataset.split_names)):\n",
    "    prompts = [get_dataset.templates[(i+1)%len(get_dataset.split_names)].replace('{}', name) for name in get_dataset.entity_names[i]]\n",
    "    print(len(prompts))\n",
    "\n",
    "    start_time = time.time()\n",
    "    token_info = tokenizer(prompts, padding=True, padding_side='left', return_tensors='pt').to(device)\n",
    "    generated_tokens = model.generate(**token_info, use_cache=True, max_new_tokens=500, do_sample=False)\n",
    "    end_time = time.time()\n",
    "    print(end_time - start_time)\n",
    "    print(generated_tokens.shape)\n",
    "\n",
    "    unsteered_generations[i] = [cleanup(x) for x in tokenizer.batch_decode(generated_tokens)]"
   ]
  },
  {
   "cell_type": "code",
   "execution_count": 29,
   "id": "0e20d04f-6d79-435a-a551-fb2d5c67b192",
   "metadata": {},
   "outputs": [],
   "source": [
    "import pickle\n",
    "with open('results/fir/unsteered_gens.pkl', 'wb') as fp:\n",
    "    pickle.dump(unsteered_generations, fp)"
   ]
  },
  {
   "cell_type": "markdown",
   "id": "34ae128d-68a0-40fd-a376-3dcdd9bc7171",
   "metadata": {},
   "source": [
    "## Promotion steering"
   ]
  },
  {
   "cell_type": "markdown",
   "id": "80f61e6e-555e-4f5d-9544-84fc63ae62d2",
   "metadata": {},
   "source": [
    "To get steered model generations, use the script `get_promotion_steering_gens.py`. This script automatically computes promotion steering vectors for each layer and each training dataset split, and parallelizes the process of computing steered generations across multiple devices. The script takes two command-line arguments:\n",
    "* `devices`: a comma-separated list of GPU indices that all scripts (in parallel) will be using. E.g. `0,1,2,3` means that four scripts will be running in parallel, one using GPU 0, the next using GPU 1, etc.\n",
    "* `device_idx`: the device index that the current script will be using.\n",
    "\n",
    "For example, to split the generation workload across two GPUs, you can run this script twice in parallel:\n",
    "* `python3 get_promotion_steering_gens.py 0,1 0 &`\n",
    "* `python3 get_promotion_steering_gens.py 0,1 1 &`\n",
    "\n",
    "The script saves results for the current device to the filename `'results/fir/dst_generations_all_layers_{device_idx}.pkl'`, where `{device_idx}` is replaced with the proper device index."
   ]
  },
  {
   "cell_type": "markdown",
   "id": "6b0e17db-9c65-482b-a10e-6ccd88db5274",
   "metadata": {},
   "source": [
    "### Merging results from different devices"
   ]
  },
  {
   "cell_type": "markdown",
   "id": "7f5a4d8c-90fb-4da9-a777-cff6827086bd",
   "metadata": {},
   "source": [
    "After getting generations in parallel across different devices, it's time to merge the results into a single file.\n",
    "\n",
    "In this code, we assume that `devices = [0,1,2,3]`."
   ]
  },
  {
   "cell_type": "code",
   "execution_count": 2,
   "id": "4ca06946-efd8-447f-b690-b457947ffad4",
   "metadata": {},
   "outputs": [],
   "source": [
    "import pickle\n",
    "import numpy as np\n",
    "\n",
    "num_devices = 4\n",
    "num_layers = 26\n",
    "\n",
    "dst_gens_per_device = []\n",
    "for i in range(num_devices):\n",
    "    with open(f'results/fir/dst_generations_all_layers_{i}.pkl', 'rb') as fp:\n",
    "        dst_gens_per_device.append(pickle.load(fp))\n",
    "\n",
    "dst_gens_all_layers = [None for _ in range(num_layers)]\n",
    "for x in dst_gens_per_device:\n",
    "    for layer, v in x.items():\n",
    "        dst_gens_all_layers[layer] = v\n",
    "\n",
    "# save results to 'results/fir/dst_generations_all_layers.pkl'\n",
    "with open('results/fir/dst_generations_all_layers.pkl', 'wb') as fp:\n",
    "    pickle.dump(dst_gens_all_layers, fp)"
   ]
  },
  {
   "cell_type": "markdown",
   "id": "5de32cd4-c8b2-4666-9cea-14a60a253cfb",
   "metadata": {},
   "source": [
    "## Suppression steering"
   ]
  },
  {
   "cell_type": "markdown",
   "id": "ac28cb8d-8302-4f3b-b478-7fc7f5ce99cd",
   "metadata": {},
   "source": [
    "Similarly to promotion steering, you can use the script `get_suppression_steering_gens.py` to get suppression-steered generations in parallel across multiple GPUs. The arguments are the same as `get_promotion_steering_gens.py`.\n",
    "\n",
    "For example, to split the generation workload across two GPUs, you can run this script twice in parallel:\n",
    "* `python3 get_suppression_steering_gens.py 0,1 0 &`\n",
    "* `python3 get_suppression_steering_gens.py 0,1 1 &`\n",
    "\n",
    "The script saves results for the current device to the filename `'results/fir/src_generations_all_layers_{device_idx}.pkl'`, where `{device_idx}` is replaced with the proper device index."
   ]
  },
  {
   "cell_type": "markdown",
   "id": "8e18d19c-4483-4bca-8f0d-9c3af308105b",
   "metadata": {},
   "source": [
    "### Merging results from different devices"
   ]
  },
  {
   "cell_type": "markdown",
   "id": "5eea2ba5-4d32-4bc3-8c69-448142e88ffc",
   "metadata": {},
   "source": [
    "After getting generations in parallel across different devices, it's time to merge the results into a single file.\n",
    "\n",
    "In this code, we assume that `devices = [0,1,2,3]`."
   ]
  },
  {
   "cell_type": "code",
   "execution_count": 2,
   "id": "b07c3156-a87c-404d-8dae-62cb6202caea",
   "metadata": {},
   "outputs": [],
   "source": [
    "import pickle\n",
    "import numpy as np\n",
    "\n",
    "num_devices = 4\n",
    "num_layers = 26\n",
    "\n",
    "dst_gens_per_device = []\n",
    "for i in range(num_devices):\n",
    "    with open(f'results/fir/src_generations_all_layers_{i}.pkl', 'rb') as fp:\n",
    "        dst_gens_per_device.append(pickle.load(fp))\n",
    "\n",
    "dst_gens_all_layers = [None for _ in range(num_layers)]\n",
    "for x in dst_gens_per_device:\n",
    "    for layer, v in x.items():\n",
    "        dst_gens_all_layers[layer] = v\n",
    "\n",
    "# save results to 'results/fir/dst_generations_all_layers.pkl'\n",
    "with open('results/fir/src_generations_all_layers.pkl', 'wb') as fp:\n",
    "    pickle.dump(dst_gens_all_layers, fp)"
   ]
  },
  {
   "cell_type": "markdown",
   "id": "a4316588-295f-43cf-b8f2-d2cdbc39946f",
   "metadata": {},
   "source": [
    "## Reentrant steering"
   ]
  },
  {
   "cell_type": "markdown",
   "id": "6f144f14-de7f-408f-843e-fcfe7cae5861",
   "metadata": {},
   "source": [
    "Because we only test out reentrant steering at a single point (lower-layer steering at layer 1 + higher-layer steering at layer 10), we don't use a separate parallelization script to compute steered generations. Instead, the code to compute generations is as follows."
   ]
  },
  {
   "cell_type": "markdown",
   "id": "98bc91c8-415c-4574-965c-292a0e4cba9a",
   "metadata": {},
   "source": [
    "### Steering functions"
   ]
  },
  {
   "cell_type": "code",
   "execution_count": null,
   "id": "8d2c053e-4410-410e-a4b2-bf65cc30c917",
   "metadata": {},
   "outputs": [],
   "source": [
    "import time\n",
    "def get_generations(layer, vector, prompt_splits, split_names, sample_kwargs=None):\n",
    "    if sample_kwargs is None: sample_kwargs = {}\n",
    "    new_sample_kwargs = dict(use_cache=True, max_new_tokens=500, do_sample=False)\n",
    "    new_sample_kwargs.update(sample_kwargs)\n",
    "\n",
    "    generations_dict = {}\n",
    "    cleanup = lambda x: x.replace('<bos>', '').replace('<eos>', '').replace('<pad>', '')\n",
    "    for i in range(len(split_names)):\n",
    "        start_time = time.time()\n",
    "        with steering_opt.hf_hooks_contextmanager(model, [(layer, steering_opt.make_steering_hook_hf(vector))]):\n",
    "            token_info = tokenizer(prompt_splits[i], padding=True, padding_side='left', return_tensors='pt').to(device)\n",
    "            print(token_info.input_ids.shape)\n",
    "            generated_tokens = model.generate(**token_info, **new_sample_kwargs)\n",
    "        generations_dict[split_names[i]] = [cleanup(x) for x in tokenizer.batch_decode(generated_tokens)]\n",
    "        end_time = time.time()\n",
    "        print(f'Split {split_names[i]} finished in {end_time-start_time:.2f} seconds.')\n",
    "\n",
    "    return generations_dict"
   ]
  },
  {
   "cell_type": "code",
   "execution_count": 38,
   "id": "2921d3a1-b410-43cc-94df-69094d9d4371",
   "metadata": {},
   "outputs": [],
   "source": [
    "def do_klmin(model, tokenizer, new_layer, all_target_tokens, all_base_hooks,\n",
    "    token_slice=slice(None, None), steer_slice=None,\n",
    "    lr=0.1,\n",
    "    max_iters=40, target_loss=None, target_loss_target_iters=1,\n",
    "    do_clamp=True,\n",
    "    max_norm=30, starting_norm=0.5,\n",
    "    eps=1e-9, debug=True\n",
    "):\n",
    "    all_target_logits = []\n",
    "    with torch.no_grad():\n",
    "        for cur_hook, cur_target_tokens in zip(all_base_hooks, all_target_tokens):\n",
    "            with steering_opt.hf_hooks_contextmanager(model, [cur_hook]):\n",
    "                cur_target_logits = model(cur_target_tokens).logits[:, token_slice]\n",
    "                all_target_logits.append(cur_target_logits)\n",
    "        \n",
    "    new_vector = torch.randn(model.config.hidden_size).to(device)*starting_norm\n",
    "    new_vector.requires_grad_(True)\n",
    "    \n",
    "    optimizer = torch.optim.Adam([new_vector], lr=lr)\n",
    "    \n",
    "    loss = None\n",
    "    prev_loss = None\n",
    "    iters = 0\n",
    "    target_loss_cur_iters = 0\n",
    "    prev_loss_cur_iters = 0\n",
    "    \n",
    "    while True:\n",
    "        if max_iters is not None and iters > max_iters:\n",
    "            if debug: print(\"Max iters reached.\")\t\n",
    "            break\n",
    "        if target_loss is not None and loss is not None:\n",
    "            if loss <= (target_loss if not satisfice else target_loss + eps):\n",
    "                target_loss_cur_iters += 1\n",
    "                if debug: print(f\"Loss stopping threshold {target_loss} hit. Cur num iters: {target_loss_cur_iters}\")\n",
    "            else:\n",
    "                target_loss_cur_iters = 0\n",
    "    \n",
    "            if target_loss_cur_iters >= target_loss_target_iters:\n",
    "                if debug: print(f\"Loss stopping threshold {target_loss} hit. Breaking.\")\n",
    "                break\n",
    "    \n",
    "        optimizer.zero_grad()\n",
    "        prev_loss = loss\n",
    "        loss = 0\n",
    "    \n",
    "        for cur_target_logits, cur_target_tokens in zip(all_target_logits, all_target_tokens):\n",
    "            if do_clamp: new_hook_fn = steering_opt.make_steering_hook_hf(new_vector, make_abl_mat(new_vector), token=steer_slice)\n",
    "            else: new_hook_fn = steering_opt.make_steering_hook_hf(new_vector, token=steer_slice)\n",
    "            with steering_opt.hf_hooks_contextmanager(model, [(new_layer, new_hook_fn)]):\n",
    "                cur_steered_logits = model(cur_target_tokens).logits[:, token_slice]\n",
    "            cur_loss = torch.nn.functional.kl_div(torch.nn.functional.softmax(cur_steered_logits, dim=-1).log(), torch.nn.functional.softmax(cur_target_logits, dim=-1), reduction='batchmean')/len(cur_target_logits[0])\n",
    "            cur_loss.backward()\n",
    "            loss += cur_loss.item()\n",
    "        if debug: print(loss)\n",
    "    \n",
    "        if prev_loss is not None and abs(prev_loss - loss) < eps:\n",
    "            prev_loss_cur_iters += 1\n",
    "        if prev_loss_cur_iters >= target_loss_target_iters:\n",
    "            if debug:\n",
    "                print(\"prev_loss reached after\", iters,'iters')\n",
    "                print(\"prev_loss, loss:\", prev_loss, loss)\n",
    "            break\n",
    "    \n",
    "        optimizer.step()\n",
    "    \n",
    "        # if we've reached our max norm, then normalize our parameters\n",
    "        with torch.no_grad():\n",
    "            if max_norm is not None and (cur_norm := torch.linalg.norm(new_vector)) > max_norm:\n",
    "                new_vector[:] = max_norm * new_vector / torch.linalg.norm(new_vector)\n",
    "        \n",
    "        iters += 1\n",
    "\n",
    "    return new_vector\n",
    "\n",
    "def do_klmin_reentrant(model, tokenizer, datapoints, base_layer, late_layer, generation_size=10, base_opt_kwargs=None, late_opt_kwargs=None, debug=False):\n",
    "    # do base layer optimization\n",
    "    if base_opt_kwargs is None: base_opt_kwargs = {}\n",
    "    new_base_opt_kwargs = dict(lr=0.1, max_iters=50, use_transformer_lens=False,\n",
    "        do_target_loss_avg=False, return_loss=False,\n",
    "        affine_rank=1, max_norm=0, max_affine_norm=1,\n",
    "        target_loss=0.01, target_loss_target_iters=20,\n",
    "        debug=debug\n",
    "    )\n",
    "    new_base_opt_kwargs.update(base_opt_kwargs)\n",
    "\n",
    "    if new_base_opt_kwargs['affine_rank'] is None:\n",
    "        vector = steering_opt.optimize_completion(\n",
    "            model, datapoints, base_layer, tokenizer=tokenizer, **new_base_opt_kwargs\n",
    "        )\n",
    "        base_hook = (base_layer, steering_opt.make_steering_hook_hf(vector))\n",
    "    else:\n",
    "        vector, matrix = steering_opt.optimize_completion(\n",
    "            model, datapoints, base_layer, tokenizer=tokenizer, **new_base_opt_kwargs\n",
    "        )\n",
    "        base_hook = (base_layer, steering_opt.make_steering_hook_hf(vector, matrix))\n",
    "\n",
    "    # generate steered tokens\n",
    "    all_target_tokens = []\n",
    "    for datapoint in datapoints:\n",
    "        with steering_opt.hf_hooks_contextmanager(model, [base_hook]):\n",
    "            target_tokens = model.generate(tokenizer(datapoint.prompt, return_tensors='pt').input_ids, use_cache=False, max_new_tokens=generation_size)\n",
    "            all_target_tokens.append(target_tokens)\n",
    "\n",
    "    # do late-layer optimization\n",
    "    if late_opt_kwargs is None: late_opt_kwargs = {}\n",
    "    new_late_opt_kwargs = dict(lr=0.1, max_iters=40, target_loss=None, target_loss_target_iters=2, max_norm=30, eps=1e-9, debug=debug)\n",
    "    new_late_opt_kwargs.update(late_opt_kwargs)\n",
    "\n",
    "    new_vector = do_klmin(model, tokenizer, late_layer, all_target_tokens, [base_hook], **new_late_opt_kwargs)\n",
    "    return new_vector"
   ]
  },
  {
   "cell_type": "code",
   "execution_count": 69,
   "id": "2cd48bef-dee5-495f-a434-22c7975927f3",
   "metadata": {},
   "outputs": [],
   "source": [
    "def do_reentrant_steering_experiment_on_layer(base_layer, late_layer, fake_split_step=1, num_examples=1,\n",
    "    reentrant_kwargs=None, sample_kwargs=None, num_sample_prompts_per_split=None):\n",
    "\n",
    "    info = dict(\n",
    "        fake_split_step=fake_split_step,\n",
    "        num_examples=num_examples,\n",
    "        reentrant_kwargs=reentrant_kwargs,\n",
    "        sample_kwargs=sample_kwargs\n",
    "    )\n",
    "    \n",
    "    if reentrant_kwargs is None: reentrant_kwargs = {}\n",
    "    new_reentrant_kwargs = dict(generation_size=50,\n",
    "        base_opt_kwargs=dict(\n",
    "            do_target_loss_avg=False,\n",
    "            affine_rank=1, max_norm=0, max_affine_norm=1,\n",
    "            target_loss=0.01, target_loss_target_iters=20,\n",
    "        ),\n",
    "        late_opt_kwargs=dict(\n",
    "            lr=0.1, max_iters=40, target_loss=None, target_loss_target_iters=2, max_norm=30, eps=1e-9, token_slice=slice(-50, -50+10)\n",
    "        )\n",
    "    )\n",
    "    new_reentrant_kwargs.update(reentrant_kwargs)\n",
    "\n",
    "    training_real_prompts = [random.sample(real_prompt_split, k=num_examples) for real_prompt_split in real_prompt_splits]\n",
    "    training_fake_prompts = [[make_fake_prompt(dst_prompt, fake_split_step=fake_split_step) for dst_prompt in split] for split in training_real_prompts]\n",
    "    all_fake_prompts = [[make_fake_prompt(prompt, fake_split_step=fake_split_step) for prompt in split] for split in real_prompt_splits]\n",
    "    if num_sample_prompts_per_split is not None:\n",
    "        all_fake_prompts = [random.sample(x, k=num_sample_prompts_per_split) for x in all_fake_prompts]\n",
    "    info['sample_prompts'] = all_fake_prompts\n",
    "    \n",
    "    split_names = [f'{get_dataset.occupations[i][:3]}_to_{get_dataset.occupations[(i+fake_split_step)%len(get_dataset.occupations)][:3]}' for i in range(len(get_dataset.occupations))]\n",
    "\n",
    "    info['generations'] = []\n",
    "    #for real_prompt_split, fake_prompt_split in zip(training_real_prompts, training_fake_prompts\n",
    "    for fake_prompt_split in training_fake_prompts:\n",
    "        cur_split_info = []\n",
    "        for src_prompt in fake_prompt_split:\n",
    "            gc.collect()\n",
    "            torch.cuda.empty_cache()\n",
    "            datapoints = [\n",
    "                steering_opt.TrainingDatapoint(\n",
    "                    src_prompt,\n",
    "                    src_completions=[\"...Just kidding\", \"... Just kidding\"],\n",
    "                )\n",
    "            ]\n",
    "            \n",
    "            new_vector = do_klmin_reentrant(model, tokenizer,\n",
    "                datapoints, base_layer, late_layer, **new_reentrant_kwargs\n",
    "            )\n",
    "            \n",
    "            gc.collect()\n",
    "            torch.cuda.empty_cache()\n",
    "            generations_dict = get_generations(late_layer, new_vector, all_fake_prompts, split_names, sample_kwargs=sample_kwargs)\n",
    "            cur_datapoint_info = {\n",
    "                'src_prompt': src_prompt,\n",
    "                'vector': new_vector.detach().cpu().float().numpy(),\n",
    "                'reentrant_kwargs': new_reentrant_kwargs,\n",
    "                'generations_dict': generations_dict\n",
    "            }\n",
    "            cur_split_info.append(cur_datapoint_info)\n",
    "        info['generations'].append(cur_split_info)\n",
    "\n",
    "    return info"
   ]
  },
  {
   "cell_type": "markdown",
   "id": "6ca92ca4-9386-4395-a5fe-43733178a762",
   "metadata": {},
   "source": [
    "### Get steered generations"
   ]
  },
  {
   "cell_type": "code",
   "execution_count": 70,
   "id": "047c6e05-75bc-402f-9f48-4b343101ab71",
   "metadata": {
    "scrolled": true
   },
   "outputs": [
    {
     "name": "stdout",
     "output_type": "stream",
     "text": [
      "torch.Size([40, 37])\n",
      "Split act_to_aut finished in 12.91 seconds.\n",
      "torch.Size([40, 39])\n",
      "Split aut_to_ath finished in 12.47 seconds.\n",
      "torch.Size([40, 36])\n",
      "Split ath_to_sci finished in 10.87 seconds.\n",
      "torch.Size([40, 36])\n",
      "Split sci_to_pol finished in 17.18 seconds.\n",
      "torch.Size([40, 37])\n",
      "Split pol_to_mus finished in 13.84 seconds.\n",
      "torch.Size([40, 37])\n",
      "Split mus_to_act finished in 12.38 seconds.\n",
      "torch.Size([40, 37])\n",
      "Split act_to_aut finished in 5.42 seconds.\n",
      "torch.Size([40, 39])\n",
      "Split aut_to_ath finished in 7.05 seconds.\n",
      "torch.Size([40, 36])\n",
      "Split ath_to_sci finished in 5.58 seconds.\n",
      "torch.Size([40, 36])\n",
      "Split sci_to_pol finished in 8.01 seconds.\n",
      "torch.Size([40, 37])\n",
      "Split pol_to_mus finished in 10.92 seconds.\n",
      "torch.Size([40, 37])\n",
      "Split mus_to_act finished in 9.03 seconds.\n",
      "torch.Size([40, 37])\n",
      "Split act_to_aut finished in 16.55 seconds.\n",
      "torch.Size([40, 39])\n",
      "Split aut_to_ath finished in 17.27 seconds.\n",
      "torch.Size([40, 36])\n",
      "Split ath_to_sci finished in 15.63 seconds.\n",
      "torch.Size([40, 36])\n",
      "Split sci_to_pol finished in 20.62 seconds.\n",
      "torch.Size([40, 37])\n",
      "Split pol_to_mus finished in 23.36 seconds.\n",
      "torch.Size([40, 37])\n",
      "Split mus_to_act finished in 15.69 seconds.\n",
      "torch.Size([40, 37])\n",
      "Split act_to_aut finished in 9.86 seconds.\n",
      "torch.Size([40, 39])\n",
      "Split aut_to_ath finished in 12.15 seconds.\n",
      "torch.Size([40, 36])\n",
      "Split ath_to_sci finished in 8.68 seconds.\n",
      "torch.Size([40, 36])\n",
      "Split sci_to_pol finished in 11.39 seconds.\n",
      "torch.Size([40, 37])\n",
      "Split pol_to_mus finished in 13.43 seconds.\n",
      "torch.Size([40, 37])\n",
      "Split mus_to_act finished in 11.05 seconds.\n",
      "torch.Size([40, 37])\n",
      "Split act_to_aut finished in 5.74 seconds.\n",
      "torch.Size([40, 39])\n",
      "Split aut_to_ath finished in 9.03 seconds.\n",
      "torch.Size([40, 36])\n",
      "Split ath_to_sci finished in 6.74 seconds.\n",
      "torch.Size([40, 36])\n",
      "Split sci_to_pol finished in 9.88 seconds.\n",
      "torch.Size([40, 37])\n",
      "Split pol_to_mus finished in 5.79 seconds.\n",
      "torch.Size([40, 37])\n",
      "Split mus_to_act finished in 4.52 seconds.\n",
      "torch.Size([40, 37])\n",
      "Split act_to_aut finished in 11.78 seconds.\n",
      "torch.Size([40, 39])\n",
      "Split aut_to_ath finished in 9.01 seconds.\n",
      "torch.Size([40, 36])\n",
      "Split ath_to_sci finished in 5.96 seconds.\n",
      "torch.Size([40, 36])\n",
      "Split sci_to_pol finished in 11.06 seconds.\n",
      "torch.Size([40, 37])\n",
      "Split pol_to_mus finished in 10.84 seconds.\n",
      "torch.Size([40, 37])\n",
      "Split mus_to_act finished in 9.32 seconds.\n"
     ]
    }
   ],
   "source": [
    "import gc\n",
    "reentrant_info = do_reentrant_steering_experiment_on_layer(1, 10, num_sample_prompts_per_split=40)"
   ]
  },
  {
   "cell_type": "code",
   "execution_count": 91,
   "id": "bbcc4af5-8ca2-45a0-b7ad-54db48c8c784",
   "metadata": {},
   "outputs": [],
   "source": [
    "import pickle\n",
    "with open(\"results/fir/reentrant_1_10_gens.pkl\", \"wb\") as fp:\n",
    "    pickle.dump(reentrant_info, fp)"
   ]
  },
  {
   "cell_type": "markdown",
   "id": "bf07c170-e3d6-4432-ae34-14a7c56e5e1d",
   "metadata": {},
   "source": [
    "## CAA\n",
    "\n",
    "For CAA just as reentrant steering, we don't use a separate script to parallelize generating steered completions."
   ]
  },
  {
   "cell_type": "code",
   "execution_count": 47,
   "id": "cebadbcb-855b-41c8-8e18-d7988b9fc054",
   "metadata": {},
   "outputs": [],
   "source": [
    "layers = list(range(1,25,2)) # the layers at which we want to get generations\n",
    "batch_size = 20 # larger batch sizes speed up generations but use more memory"
   ]
  },
  {
   "cell_type": "markdown",
   "id": "335e28a9-b9ad-4906-b109-fb5149d3df92",
   "metadata": {},
   "source": [
    "First, get the mean difference vectors at each layer."
   ]
  },
  {
   "cell_type": "code",
   "execution_count": 50,
   "id": "3cc25b58-3000-4a87-a79c-55bc7bb2dcc6",
   "metadata": {},
   "outputs": [
    {
     "name": "stdout",
     "output_type": "stream",
     "text": [
      "Doing layer 1\n"
     ]
    },
    {
     "name": "stderr",
     "output_type": "stream",
     "text": [
      "100%|███████████████████████████████████████████| 26/26 [00:10<00:00,  2.47it/s]\n"
     ]
    },
    {
     "name": "stdout",
     "output_type": "stream",
     "text": [
      "Doing layer 3\n"
     ]
    },
    {
     "name": "stderr",
     "output_type": "stream",
     "text": [
      "100%|███████████████████████████████████████████| 26/26 [00:10<00:00,  2.56it/s]\n"
     ]
    },
    {
     "name": "stdout",
     "output_type": "stream",
     "text": [
      "Doing layer 5\n"
     ]
    },
    {
     "name": "stderr",
     "output_type": "stream",
     "text": [
      "100%|███████████████████████████████████████████| 26/26 [00:10<00:00,  2.51it/s]\n"
     ]
    },
    {
     "name": "stdout",
     "output_type": "stream",
     "text": [
      "Doing layer 7\n"
     ]
    },
    {
     "name": "stderr",
     "output_type": "stream",
     "text": [
      "100%|███████████████████████████████████████████| 26/26 [00:10<00:00,  2.51it/s]\n"
     ]
    },
    {
     "name": "stdout",
     "output_type": "stream",
     "text": [
      "Doing layer 9\n"
     ]
    },
    {
     "name": "stderr",
     "output_type": "stream",
     "text": [
      "100%|███████████████████████████████████████████| 26/26 [00:10<00:00,  2.58it/s]\n"
     ]
    },
    {
     "name": "stdout",
     "output_type": "stream",
     "text": [
      "Doing layer 11\n"
     ]
    },
    {
     "name": "stderr",
     "output_type": "stream",
     "text": [
      "100%|███████████████████████████████████████████| 26/26 [00:10<00:00,  2.39it/s]\n"
     ]
    },
    {
     "name": "stdout",
     "output_type": "stream",
     "text": [
      "Doing layer 13\n"
     ]
    },
    {
     "name": "stderr",
     "output_type": "stream",
     "text": [
      "100%|███████████████████████████████████████████| 26/26 [00:09<00:00,  2.69it/s]\n"
     ]
    },
    {
     "name": "stdout",
     "output_type": "stream",
     "text": [
      "Doing layer 15\n"
     ]
    },
    {
     "name": "stderr",
     "output_type": "stream",
     "text": [
      "100%|███████████████████████████████████████████| 26/26 [00:09<00:00,  2.65it/s]\n"
     ]
    },
    {
     "name": "stdout",
     "output_type": "stream",
     "text": [
      "Doing layer 17\n"
     ]
    },
    {
     "name": "stderr",
     "output_type": "stream",
     "text": [
      "100%|███████████████████████████████████████████| 26/26 [00:08<00:00,  2.94it/s]\n"
     ]
    },
    {
     "name": "stdout",
     "output_type": "stream",
     "text": [
      "Doing layer 19\n"
     ]
    },
    {
     "name": "stderr",
     "output_type": "stream",
     "text": [
      "100%|███████████████████████████████████████████| 26/26 [00:09<00:00,  2.73it/s]\n"
     ]
    },
    {
     "name": "stdout",
     "output_type": "stream",
     "text": [
      "Doing layer 21\n"
     ]
    },
    {
     "name": "stderr",
     "output_type": "stream",
     "text": [
      "100%|███████████████████████████████████████████| 26/26 [00:09<00:00,  2.79it/s]\n"
     ]
    },
    {
     "name": "stdout",
     "output_type": "stream",
     "text": [
      "Doing layer 23\n"
     ]
    },
    {
     "name": "stderr",
     "output_type": "stream",
     "text": [
      "100%|███████████████████████████████████████████| 26/26 [00:09<00:00,  2.87it/s]\n"
     ]
    }
   ],
   "source": [
    "caa_vecs = {}\n",
    "\n",
    "for new_layer in layers:\n",
    "    print(\"Doing layer\", new_layer)\n",
    "    token_slice = slice(None, None)\n",
    "    \n",
    "    real_means = []\n",
    "    fake_means = []\n",
    "    \n",
    "    for i in tqdm.tqdm(range(0, len(get_dataset.real_prompts), batch_size)):\n",
    "        cur_real_prompts = get_dataset.real_prompts[i:i+batch_size]\n",
    "        cur_fake_prompts = get_dataset.fake_prompts[i:i+batch_size]\n",
    "    \n",
    "        outlist = []\n",
    "        activs_hook = (new_layer, steering_opt.make_activs_hook_hf(outlist))\n",
    "        token_info = tokenizer(cur_real_prompts, return_tensors='pt', padding=True, padding_side='right')\n",
    "        lengths = (token_info.input_ids != 0).sum(dim=-1).detach().cpu().numpy()\n",
    "        with steering_opt.hf_hooks_contextmanager(model, [activs_hook]):\n",
    "            model(**token_info)\n",
    "        x = outlist[0].float()\n",
    "        cur_mean = torch.stack([x[i, :lengths[i]].mean(dim=0) for i in range(len(x))]).mean(dim=0).detach().cpu().numpy()\n",
    "        real_means.append(cur_mean)\n",
    "            \n",
    "        outlist = []\n",
    "        activs_hook = (new_layer, steering_opt.make_activs_hook_hf(outlist))\n",
    "        token_info = tokenizer(cur_fake_prompts, return_tensors='pt', padding=True, padding_side='right')\n",
    "        lengths = (token_info.input_ids != 0).sum(dim=-1).detach().cpu().numpy()\n",
    "        with steering_opt.hf_hooks_contextmanager(model, [activs_hook]):\n",
    "            model(**token_info)\n",
    "        x = outlist[0].float()\n",
    "        cur_mean = torch.stack([x[i, :lengths[i]].mean(dim=0) for i in range(len(x))]).mean(dim=0).detach().cpu().numpy()\n",
    "        fake_means.append(cur_mean)\n",
    "    \n",
    "        if i % (3*batch_size) == 0:\n",
    "            gc.collect()\n",
    "            torch.cuda.empty_cache()\n",
    "\n",
    "    total_real_mean = np.array(real_means).mean(axis=0)\n",
    "    total_fake_mean = np.array(fake_means).mean(axis=0)\n",
    "    total_diff_vec = total_real_mean - total_fake_mean\n",
    "    caa_vecs[new_layer] =  total_diff_vec"
   ]
  },
  {
   "cell_type": "markdown",
   "id": "8c0c2f93-2cd9-493c-9540-7cd56bdf9e3d",
   "metadata": {},
   "source": [
    "Now, get steered generations at each layer."
   ]
  },
  {
   "cell_type": "code",
   "execution_count": 83,
   "id": "9c8467ad-b3df-40f0-949b-5edad6e4c5e6",
   "metadata": {
    "scrolled": true
   },
   "outputs": [
    {
     "name": "stdout",
     "output_type": "stream",
     "text": [
      "=== Beginning layer 1 ===\n",
      "\t 40\n",
      "\t 14.15922737121582\n",
      "\t torch.Size([40, 252])\n",
      "\t 40\n",
      "\t 16.70496129989624\n",
      "\t torch.Size([40, 295])\n",
      "\t 40\n",
      "\t 14.430785179138184\n",
      "\t torch.Size([40, 210])\n",
      "\t 40\n",
      "\t 17.893643856048584\n",
      "\t torch.Size([40, 243])\n",
      "\t 40\n",
      "\t 19.297858953475952\n",
      "\t torch.Size([40, 272])\n",
      "\t 40\n",
      "\t 13.283156633377075\n",
      "\t torch.Size([40, 244])\n",
      "Layer 1 finished in 1738040488.9757278 secs\n",
      "=== Beginning layer 3 ===\n",
      "\t 40\n",
      "\t 13.006235122680664\n",
      "\t torch.Size([40, 241])\n",
      "\t 40\n",
      "\t 16.42029881477356\n",
      "\t torch.Size([40, 277])\n",
      "\t 40\n",
      "\t 14.240000486373901\n",
      "\t torch.Size([40, 204])\n",
      "\t 40\n",
      "\t 16.17931890487671\n",
      "\t torch.Size([40, 229])\n",
      "\t 40\n",
      "\t 13.536789417266846\n",
      "\t torch.Size([40, 241])\n",
      "\t 40\n",
      "\t 14.101921558380127\n",
      "\t torch.Size([40, 236])\n",
      "Layer 3 finished in 1738040578.0246103 secs\n",
      "=== Beginning layer 5 ===\n",
      "\t 40\n",
      "\t 15.510012865066528\n",
      "\t torch.Size([40, 254])\n",
      "\t 40\n",
      "\t 17.008780479431152\n",
      "\t torch.Size([40, 287])\n",
      "\t 40\n",
      "\t 15.319780588150024\n",
      "\t torch.Size([40, 264])\n",
      "\t 40\n",
      "\t 15.552603006362915\n",
      "\t torch.Size([40, 264])\n",
      "\t 40\n",
      "\t 18.427552223205566\n",
      "\t torch.Size([40, 309])\n",
      "\t 40\n",
      "\t 18.219074487686157\n",
      "\t torch.Size([40, 306])\n",
      "Layer 5 finished in 1738040679.6657596 secs\n",
      "=== Beginning layer 7 ===\n",
      "\t 40\n",
      "\t 17.551053047180176\n",
      "\t torch.Size([40, 296])\n",
      "\t 40\n",
      "\t 21.35620641708374\n",
      "\t torch.Size([40, 340])\n",
      "\t 40\n",
      "\t 18.74488067626953\n",
      "\t torch.Size([40, 272])\n",
      "\t 40\n",
      "\t 24.607377767562866\n",
      "\t torch.Size([40, 343])\n",
      "\t 40\n",
      "\t 25.72471570968628\n",
      "\t torch.Size([40, 373])\n",
      "\t 40\n",
      "\t 19.452136993408203\n",
      "\t torch.Size([40, 291])\n",
      "Layer 7 finished in 1738040809.1702547 secs\n",
      "=== Beginning layer 9 ===\n",
      "\t 40\n",
      "\t 17.384195566177368\n",
      "\t torch.Size([40, 246])\n",
      "\t 40\n",
      "\t 17.81650471687317\n",
      "\t torch.Size([40, 272])\n",
      "\t 40\n",
      "\t 16.113951921463013\n",
      "\t torch.Size([40, 248])\n",
      "\t 40\n",
      "\t 21.550753593444824\n",
      "\t torch.Size([40, 318])\n",
      "\t 40\n",
      "\t 18.967668533325195\n",
      "\t torch.Size([40, 287])\n",
      "\t 40\n",
      "\t 15.264940023422241\n",
      "\t torch.Size([40, 241])\n",
      "Layer 9 finished in 1738040917.9853566 secs\n",
      "=== Beginning layer 11 ===\n",
      "\t 40\n",
      "\t 15.63305926322937\n",
      "\t torch.Size([40, 247])\n",
      "\t 40\n",
      "\t 21.832608938217163\n",
      "\t torch.Size([40, 330])\n",
      "\t 40\n",
      "\t 17.84270668029785\n",
      "\t torch.Size([40, 272])\n",
      "\t 40\n",
      "\t 20.928166151046753\n",
      "\t torch.Size([40, 320])\n",
      "\t 40\n",
      "\t 16.955695629119873\n",
      "\t torch.Size([40, 259])\n",
      "\t 40\n",
      "\t 21.107614040374756\n",
      "\t torch.Size([40, 322])\n",
      "Layer 11 finished in 1738041033.9613583 secs\n",
      "=== Beginning layer 13 ===\n",
      "\t 40\n",
      "\t 14.718467712402344\n",
      "\t torch.Size([40, 226])\n",
      "\t 40\n",
      "\t 19.649903059005737\n",
      "\t torch.Size([40, 296])\n",
      "\t 40\n",
      "\t 14.129740476608276\n",
      "\t torch.Size([40, 221])\n",
      "\t 40\n",
      "\t 21.113746643066406\n",
      "\t torch.Size([40, 322])\n",
      "\t 40\n",
      "\t 20.394583463668823\n",
      "\t torch.Size([40, 307])\n",
      "\t 40\n",
      "\t 16.00588822364807\n",
      "\t torch.Size([40, 250])\n",
      "Layer 13 finished in 1738041141.67502 secs\n",
      "=== Beginning layer 15 ===\n",
      "\t 40\n",
      "\t 16.718673944473267\n",
      "\t torch.Size([40, 263])\n",
      "\t 40\n",
      "\t 18.63770341873169\n",
      "\t torch.Size([40, 284])\n",
      "\t 40\n",
      "\t 14.316820621490479\n",
      "\t torch.Size([40, 233])\n",
      "\t 40\n",
      "\t 19.66042971611023\n",
      "\t torch.Size([40, 301])\n",
      "\t 40\n",
      "\t 17.196930170059204\n",
      "\t torch.Size([40, 268])\n",
      "\t 40\n",
      "\t 16.31891107559204\n",
      "\t torch.Size([40, 253])\n",
      "Layer 15 finished in 1738041246.2577188 secs\n",
      "=== Beginning layer 17 ===\n",
      "\t 40\n",
      "\t 12.794343948364258\n",
      "\t torch.Size([40, 205])\n",
      "\t 40\n",
      "\t 14.073599100112915\n",
      "\t torch.Size([40, 225])\n",
      "\t 40\n",
      "\t 13.010706663131714\n",
      "\t torch.Size([40, 214])\n",
      "\t 40\n",
      "\t 16.950134754180908\n",
      "\t torch.Size([40, 259])\n",
      "\t 40\n",
      "\t 15.900723457336426\n",
      "\t torch.Size([40, 244])\n",
      "\t 40\n",
      "\t 15.104007005691528\n",
      "\t torch.Size([40, 237])\n",
      "Layer 17 finished in 1738041335.8447137 secs\n",
      "=== Beginning layer 19 ===\n",
      "\t 40\n",
      "\t 14.500174760818481\n",
      "\t torch.Size([40, 234])\n",
      "\t 40\n",
      "\t 14.183183908462524\n",
      "\t torch.Size([40, 226])\n",
      "\t 40\n",
      "\t 13.903125762939453\n",
      "\t torch.Size([40, 225])\n",
      "\t 40\n",
      "\t 15.177183628082275\n",
      "\t torch.Size([40, 239])\n",
      "\t 40\n",
      "\t 14.717501401901245\n",
      "\t torch.Size([40, 233])\n",
      "\t 40\n",
      "\t 15.38325047492981\n",
      "\t torch.Size([40, 241])\n",
      "Layer 19 finished in 1738041425.3773446 secs\n",
      "=== Beginning layer 21 ===\n",
      "\t 40\n",
      "\t 17.11391258239746\n",
      "\t torch.Size([40, 264])\n",
      "\t 40\n",
      "\t 15.779212474822998\n",
      "\t torch.Size([40, 244])\n",
      "\t 40\n",
      "\t 12.623295068740845\n",
      "\t torch.Size([40, 208])\n",
      "\t 40\n",
      "\t 15.682950258255005\n",
      "\t torch.Size([40, 242])\n",
      "\t 40\n",
      "\t 15.434777736663818\n",
      "\t torch.Size([40, 238])\n",
      "\t 40\n",
      "\t 14.316691875457764\n",
      "\t torch.Size([40, 227])\n",
      "Layer 21 finished in 1738041518.0387874 secs\n",
      "=== Beginning layer 23 ===\n",
      "\t 40\n",
      "\t 14.837530374526978\n",
      "\t torch.Size([40, 234])\n",
      "\t 40\n",
      "\t 17.26717972755432\n",
      "\t torch.Size([40, 272])\n",
      "\t 40\n",
      "\t 14.675040245056152\n",
      "\t torch.Size([40, 233])\n",
      "\t 40\n",
      "\t 16.9511616230011\n",
      "\t torch.Size([40, 261])\n",
      "\t 40\n",
      "\t 13.876727104187012\n",
      "\t torch.Size([40, 221])\n",
      "\t 40\n",
      "\t 14.893791675567627\n",
      "\t torch.Size([40, 234])\n",
      "Layer 23 finished in 1738041612.2428002 secs\n"
     ]
    }
   ],
   "source": [
    "caa_all_generations = {}\n",
    "for layer, vec in caa_vecs.items():\n",
    "    vec = torch.from_numpy(vec).to(device)\n",
    "    generations_dict = {}\n",
    "    import time\n",
    "    cleanup = lambda x: x.replace('<bos>', '').replace('<eos>', '').replace('<pad>', '')\n",
    "    print(\"=== Beginning layer\", layer, \"===\")\n",
    "    layer_start_time = time.time()\n",
    "    for i in range(len(split_names)):\n",
    "        prompts = [get_dataset.templates[(i+1)%len(split_names)].replace('{}', name) for name in entity_names[i]][:40]\n",
    "        print('\\t', len(prompts))\n",
    "    \n",
    "        start_time = time.time()\n",
    "        hook = steering_opt.make_steering_hook_hf(vec, steering_opt.make_abl_mat(vec))\n",
    "        with steering_opt.hf_hooks_contextmanager(model, [(layer, hook)]):\n",
    "            token_info = tokenizer(prompts, padding=True, padding_side='left', return_tensors='pt').to(device)\n",
    "            generated_tokens = model.generate(**token_info, use_cache=True, max_new_tokens=500, do_sample=False)\n",
    "        end_time = time.time()\n",
    "        print('\\t', end_time - start_time)\n",
    "        print('\\t', generated_tokens.shape)\n",
    "    \n",
    "        generations_dict[split_names[i]] = [cleanup(x) for x in tokenizer.batch_decode(generated_tokens)]\n",
    "        del generated_tokens\n",
    "        del token_info\n",
    "        unoom()\n",
    "    layer_end_time = time.time()\n",
    "    print(\"Layer\", layer, \"finished in\", layer_end_time, \"secs\")\n",
    "    caa_all_generations[layer] = generations_dict"
   ]
  },
  {
   "cell_type": "markdown",
   "id": "18670d50-9f30-4591-926a-44918580d154",
   "metadata": {},
   "source": [
    "Save our steering vectors and generations."
   ]
  },
  {
   "cell_type": "code",
   "execution_count": 97,
   "id": "9ea076a3-18de-4e78-a68a-34c5adf53320",
   "metadata": {},
   "outputs": [],
   "source": [
    "import pickle\n",
    "with open('results/fir/caa_generations_all_layers.pkl', 'wb') as fp:\n",
    "    pickle.dump(caa_all_generations, fp)\n",
    "with open('results/fir/caa_vecs_all_layers.pkl', 'wb') as fp:\n",
    "    pickle.dump(caa_vecs, fp)"
   ]
  },
  {
   "cell_type": "markdown",
   "id": "1c8a95da-6d3b-4b1c-9df4-a63a89204f93",
   "metadata": {},
   "source": [
    "# Section 3.2: qualitative analysis"
   ]
  },
  {
   "cell_type": "markdown",
   "id": "2cad6e8f-d1c2-46cc-9f14-4db2cb797889",
   "metadata": {},
   "source": [
    "## String analysis\n",
    "\n",
    "How many times do fictitious-info-retraction-related strings appear in steered generations? This section contains code to calculate this."
   ]
  },
  {
   "cell_type": "markdown",
   "id": "ff7d4a49-40f6-42b8-b21a-54000bf339fb",
   "metadata": {},
   "source": [
    "### Unsteered generations"
   ]
  },
  {
   "cell_type": "code",
   "execution_count": 1,
   "id": "792e1ebf-8fa7-4274-8383-67a7a8c726fb",
   "metadata": {},
   "outputs": [],
   "source": [
    "import pickle\n",
    "import matplotlib.pyplot as plt\n",
    "import numpy as np\n",
    "\n",
    "with open('results/fir/unsteered_gens.pkl', 'rb') as fp:\n",
    "    unsteered_gens = pickle.load(fp)"
   ]
  },
  {
   "cell_type": "code",
   "execution_count": 2,
   "id": "7a9a980b-4646-4e04-a15c-37f7130226db",
   "metadata": {},
   "outputs": [
    {
     "name": "stdout",
     "output_type": "stream",
     "text": [
      "[0.46242775 0.20038536 0.00192678 0.00963391 0.06165703]\n",
      "[(0, 1), (0, 4), (0, 11), (0, 13), (0, 16), (0, 17), (0, 23), (0, 24), (0, 28), (0, 30), (0, 31), (0, 35), (0, 37), (0, 40), (0, 43), (0, 52), (0, 56), (0, 57), (0, 60), (0, 63), (0, 66), (0, 68), (0, 69), (0, 74), (0, 77), (0, 84), (1, 21), (2, 5), (2, 9), (2, 27), (2, 28), (2, 34), (2, 63), (2, 69), (2, 71), (2, 81), (2, 82), (2, 83), (3, 10), (3, 31), (3, 33), (3, 36), (3, 37), (3, 38), (3, 44), (3, 48), (3, 52), (3, 62), (3, 64), (3, 66), (3, 67), (3, 69), (3, 74), (4, 1), (4, 2), (4, 4), (4, 10), (4, 15), (4, 16), (4, 17), (4, 23), (4, 26), (4, 29), (4, 36), (4, 37), (4, 41), (4, 49), (4, 54), (4, 55), (4, 60), (4, 65), (4, 66), (4, 68), (4, 72), (4, 73), (4, 75), (5, 2), (5, 4), (5, 5), (5, 6), (5, 9), (5, 13), (5, 14), (5, 15), (5, 17), (5, 24), (5, 25), (5, 27), (5, 29), (5, 30), (5, 31), (5, 32), (5, 33), (5, 35), (5, 36), (5, 37), (5, 38), (5, 39), (5, 40), (5, 41), (5, 42), (5, 43), (5, 44), (5, 45), (5, 46), (5, 47), (5, 48), (5, 49), (5, 50), (5, 51), (5, 52), (5, 53), (5, 55), (5, 57), (5, 59), (5, 61), (5, 62), (5, 65), (5, 66), (5, 67), (5, 68), (5, 71), (5, 72), (5, 73), (5, 74), (5, 75), (5, 76), (5, 77), (5, 78), (5, 79), (5, 81), (5, 82), (5, 83), (5, 84), (5, 87), (5, 91), (5, 92), (5, 93), (5, 95)]\n",
      "[26, 1, 11, 15, 23, 63]\n",
      "0.2678227360308285\n"
     ]
    }
   ],
   "source": [
    "needles = ['ust kidding', 'trick question', \"hat's not right\", \"might be confused\", \"his is a joke\"]\n",
    "counts = [0 for _ in needles]\n",
    "total = 0\n",
    "\n",
    "none_found_idxs = []\n",
    "none_found_count_per_split = [0 for _ in unsteered_gens]\n",
    "\n",
    "for split_idx, split in enumerate(unsteered_gens):\n",
    "    for gen_idx, gen in enumerate(split):\n",
    "        found = False\n",
    "        for i, needle in enumerate(needles):\n",
    "            if needle in gen:\n",
    "                counts[i] += 1\n",
    "                found = True\n",
    "        if not found:\n",
    "            none_found_idxs.append((split_idx, gen_idx))\n",
    "            none_found_count_per_split[split_idx] += 1\n",
    "        total += 1\n",
    "\n",
    "print(np.array(counts)/total)\n",
    "print(none_found_idxs)\n",
    "print(none_found_count_per_split)\n",
    "print(len(none_found_idxs)/total)"
   ]
  },
  {
   "cell_type": "code",
   "execution_count": 3,
   "id": "01b244d4-e4bb-4186-9280-e09a6e14e810",
   "metadata": {},
   "outputs": [
    {
     "data": {
      "text/plain": [
       "0.7321772639691715"
      ]
     },
     "execution_count": 3,
     "metadata": {},
     "output_type": "execute_result"
    }
   ],
   "source": [
    "1-0.2678227360308285"
   ]
  },
  {
   "cell_type": "markdown",
   "id": "2bfcb331-35e1-4c7a-ab55-3d585f29b76a",
   "metadata": {},
   "source": [
    "### Promotion steering"
   ]
  },
  {
   "cell_type": "code",
   "execution_count": 7,
   "id": "a77cd6a6-ba03-4a53-8daa-28899b82e948",
   "metadata": {},
   "outputs": [],
   "source": [
    "import pickle\n",
    "with open('results/fir/dst_generations_all_layers.pkl', 'rb') as fp:\n",
    "    dst_generations_all_layers = pickle.load(fp)"
   ]
  },
  {
   "cell_type": "code",
   "execution_count": 8,
   "id": "1e547a29-af66-4281-81f6-2977b0f491ba",
   "metadata": {},
   "outputs": [],
   "source": [
    "dst_counts = [[0 for _ in needles] for layer in range(26)]\n",
    "dst_total = [0 for layer in range(26)]\n",
    "dst_none_found_count = [0 for layer in range(26)]\n",
    "\n",
    "for layer, layer_gens in enumerate(dst_generations_all_layers):\n",
    "    layer_gens = layer_gens['generations']\n",
    "    for training_split_idx, training_split in enumerate(layer_gens):\n",
    "        for split_name, split in training_split[0]['generations_dict'].items():\n",
    "            for gen in split:\n",
    "                found = False\n",
    "                for i, needle in enumerate(needles):\n",
    "                    if needle in gen:\n",
    "                        dst_counts[layer][i] += 1\n",
    "                        found = True\n",
    "                if not found:\n",
    "                    dst_none_found_count[layer] += 1\n",
    "                dst_total[layer] += 1"
   ]
  },
  {
   "cell_type": "markdown",
   "id": "504061d8-d2e3-41a1-8c7c-606f3a0a372a",
   "metadata": {},
   "source": [
    "### Suppression steering"
   ]
  },
  {
   "cell_type": "code",
   "execution_count": 5,
   "id": "3e5bdb88-5451-4814-8cc1-0c62829eed6e",
   "metadata": {},
   "outputs": [],
   "source": [
    "import pickle\n",
    "with open('results/fir/src_generations_all_layers.pkl', 'rb') as fp:\n",
    "    src_generations_all_layers = pickle.load(fp)"
   ]
  },
  {
   "cell_type": "code",
   "execution_count": 6,
   "id": "950e8199-666b-4b7c-bf28-aee493ddc462",
   "metadata": {},
   "outputs": [],
   "source": [
    "src_counts = [[0 for _ in needles] for layer in range(26)]\n",
    "src_total = [0 for layer in range(26)]\n",
    "src_none_found_count = [0 for layer in range(26)]\n",
    "\n",
    "for layer, layer_gens in enumerate(src_generations_all_layers):\n",
    "    layer_gens = layer_gens['generations']\n",
    "    for training_split_idx, training_split in enumerate(layer_gens):\n",
    "        for split_name, split in training_split[0]['generations_dict'].items():\n",
    "            for gen in split:\n",
    "                found = False\n",
    "                for i, needle in enumerate(needles):\n",
    "                    if needle in gen:\n",
    "                        src_counts[layer][i] += 1\n",
    "                        found = True\n",
    "                if not found:\n",
    "                    src_none_found_count[layer] += 1\n",
    "                src_total[layer] += 1"
   ]
  },
  {
   "cell_type": "markdown",
   "id": "c9d08030-ffa6-4529-9afe-ce6c3cbd48b6",
   "metadata": {},
   "source": [
    "### Reentrant"
   ]
  },
  {
   "cell_type": "code",
   "execution_count": 14,
   "id": "f6edba69-9ef6-4444-a9ad-51aa587b496f",
   "metadata": {},
   "outputs": [],
   "source": [
    "with open(\"results/fir/reentrant_1_10_gens.pkl\", \"rb\") as fp:\n",
    "    reentrant_1_10_gens = pickle.load(fp)\n",
    "\n",
    "reentrant_counts = [0 for _ in needles]\n",
    "reentrant_total = 0\n",
    "reentrant_none_found_count = 0 \n",
    "\n",
    "for training_split_idx, training_split in enumerate(reentrant_1_10_gens['generations']):\n",
    "    for split_name, split in training_split[0]['generations_dict'].items():\n",
    "        for gen in split:\n",
    "            found = False\n",
    "            for i, needle in enumerate(needles):\n",
    "                if needle in gen:\n",
    "                    reentrant_counts[i] += 1\n",
    "                    found = True\n",
    "            if not found:\n",
    "                reentrant_none_found_count += 1\n",
    "            reentrant_total += 1"
   ]
  },
  {
   "cell_type": "markdown",
   "id": "05670496-8e3a-4e21-9a5b-be1efa237204",
   "metadata": {},
   "source": [
    "### CAA"
   ]
  },
  {
   "cell_type": "code",
   "execution_count": 11,
   "id": "720a410e-f540-4f8f-8c7c-e51728f83233",
   "metadata": {},
   "outputs": [],
   "source": [
    "import pickle\n",
    "with open('results/fir/caa_generations_all_layers.pkl', 'rb') as fp:\n",
    "    caa_generations_all_layers = pickle.load(fp)\n",
    "\n",
    "caa_layers = caa_generations_all_layers.keys()\n",
    "\n",
    "caa_counts = {layer: [0 for _ in needles] for layer in caa_layers}\n",
    "caa_total = {layer: 0 for layer in caa_layers}\n",
    "caa_none_found_count = {layer: 0 for layer in caa_layers}\n",
    "\n",
    "for layer, layer_gens in caa_generations_all_layers.items():\n",
    "    for split_name, split in layer_gens.items():\n",
    "        for gen in split:\n",
    "            found = False\n",
    "            for i, needle in enumerate(needles):\n",
    "                if needle in gen:\n",
    "                    caa_counts[layer][i] += 1\n",
    "                    found = True\n",
    "            if not found:\n",
    "                caa_none_found_count[layer] += 1\n",
    "            caa_total[layer] += 1"
   ]
  },
  {
   "cell_type": "markdown",
   "id": "47915c10-bf39-4242-918b-5ecfd3c58031",
   "metadata": {},
   "source": [
    "### Plot all results"
   ]
  },
  {
   "cell_type": "code",
   "execution_count": 49,
   "id": "7caee1d7-8b75-4d8c-87ec-4898fb01bcee",
   "metadata": {},
   "outputs": [
    {
     "data": {
      "image/png": "[encoded data removed]",
      "text/plain": [
       "<Figure size 650x250 with 1 Axes>"
      ]
     },
     "metadata": {},
     "output_type": "display_data"
    }
   ],
   "source": [
    "plt.rcParams['font.family'] = 'serif'\n",
    "plt.rcParams['lines.linewidth'] = 4\n",
    "plt.rcParams['lines.markersize'] = 14\n",
    "\n",
    "plt.plot(np.array(src_none_found_count)/np.array(src_total), label='Suppression', marker='.')\n",
    "\n",
    "plt.plot(np.array(dst_none_found_count)/np.array(dst_total), label='Promotion', marker='.')\n",
    "\n",
    "plt.plot(caa_layers, np.array(list(caa_none_found_count.values()))/np.array(list(caa_total.values())), label='CAA', marker='.', zorder=-1)\n",
    "\n",
    "plt.axhline(np.array(reentrant_none_found_count)/np.array(reentrant_total), label='Reentrant', color='C3', zorder=-2)\n",
    "\n",
    "plt.gca().figure.set_size_inches(6.5, 2.5)\n",
    "\n",
    "plt.legend()\n",
    "#plt.title(\"Fraction of steered generations containing no FIR strings\")\n",
    "plt.xlabel(\"Layer\", fontsize=12)\n",
    "plt.ylabel(\"Frequency\", fontsize=12)\n",
    "plt.show()"
   ]
  },
  {
   "cell_type": "markdown",
   "id": "aa71efb1-aa63-49ff-a0b3-9cd102fde316",
   "metadata": {},
   "source": [
    "Get the maximum (over all layers) fraction of examples in which no FIR-related strings are found."
   ]
  },
  {
   "cell_type": "code",
   "execution_count": 199,
   "id": "92521966-33fe-472b-8e9e-9e660219a4a3",
   "metadata": {},
   "outputs": [
    {
     "name": "stdout",
     "output_type": "stream",
     "text": [
      "1.0\n",
      "1.0\n",
      "1.0\n",
      "0.9895833333333334\n"
     ]
    }
   ],
   "source": [
    "print(np.max((np.array(src_none_found_count)/np.array(src_total))))\n",
    "\n",
    "print(np.max((np.array(dst_none_found_count)/np.array(dst_total))))\n",
    "\n",
    "print(np.max((np.array(list(caa_none_found_count.values()))/np.array(list(caa_total.values())))))\n",
    "\n",
    "print(np.array(reentrant_none_found_count)/np.array(reentrant_total))"
   ]
  },
  {
   "cell_type": "markdown",
   "id": "52d0dd9d-a76f-4ffa-9363-4d5af1228c4d",
   "metadata": {},
   "source": [
    "## LLM qualitative evaluations"
   ]
  },
  {
   "cell_type": "markdown",
   "id": "e960c271-4f1b-4c9f-af9a-4feb567c5a06",
   "metadata": {},
   "source": [
    "### Promotion / suppression / CAA steering\n",
    "\n",
    "To perform LLM qualitative evaluations, use the script `llm_evals.py`. This script parallelizes the computation of having an LLM evaluate whether a steered generation primarily discusses the original attribute of the entity or the fictitious attribute of the entity.\n",
    "\n",
    "This script takes the following command-line arguments:\n",
    "\n",
    "* `devices`: a comma-separated list of ints containing a list of GPU indices that the scripts will be using. E.g. `0,1,2,3` means that across all instances of the running scripts, GPUs 0, 1, 2, and 3 will be used.\n",
    "* `device_idx`: the GPU index that this current script instance will be using. Note that this is an index into the list provided by `devices`, so if `devices` is `0,2,4`, and `device_idx` is `1`, then the script will run on GPU 2.\n",
    "* `generations_path`: the path to a `.pkl` file containing the generations to be evaluated. (This is the same `.pkl` file output by the code from Section 3.1.)\n",
    "* `out_prefix` (optional): a prefix for where our output file will be saved. In particular, a script running with device index `device_idx` will output to `'{out_prefix}device_{device_idx}.pkl'`.\n",
    "* `layer_range` (optional): a comma-separated triple of ints `start,end,step` corresponding to a range of layers to evaluate.\n",
    "* `only_one_training_split` (optional): if true, then the generations file only contains generations from a single steering vector per layer. In our setup, this is true for CAA.\n",
    "\n",
    "**Examples**:\n",
    "* To evaluate suppression-steered generations saved to `results/fir/src_generations_all_layers.pkl` on GPUs 0, 2, and 4, only looking at layers 1,3,5,...,23, then run the following commands (in parallel):\n",
    "    * `python3 llm_evals.py 0,2,4 0 results/fir/src_generations_all_layers.pkl results/fir/src_llm_evals/ 1,25,2 &`\n",
    "    * `python3 llm_evals.py 0,2,4 1 results/fir/src_generations_all_layers.pkl results/fir/src_llm_evals/ 1,25,2 &`\n",
    "    * `python3 llm_evals.py 0,2,4 2 results/fir/src_generations_all_layers.pkl results/fir/src_llm_evals/ 1,25,2 &`\n",
    "\n",
    "This will save results to the subdirectory `results/fir/src_llm_evals/`.\n",
    "* To evaluate CAA-steered generations saved to `results/fir/caa_generations_all_layers.pkl` on GPUs 0, 2, and 4, only looking at layers 1,4,7,...,24, then run the following commands (in parallel):\n",
    "    * `python3 llm_evals.py 0,2,4 0 results/fir/caa_generations_all_layers.pkl results/fir/caa_llm_evals/ 1,25,3 true &`\n",
    "    * `python3 llm_evals.py 0,2,4 1 results/fir/caa_generations_all_layers.pkl results/fir/caa_llm_evals/ 1,25,3 true &`\n",
    "    * `python3 llm_evals.py 0,2,4 2 results/fir/caa_generations_all_layers.pkl results/fir/caa_llm_evals/ 1,25,3 true &`\n",
    "\n",
    "This will save results to the subdirectory `results/fir/caa_llm_evals/`."
   ]
  },
  {
   "cell_type": "markdown",
   "id": "aa14ea6a-ac51-4b5b-91e5-5405654ad761",
   "metadata": {},
   "source": [
    "After running this script, the next step is to gather up the results from all devices into a single datastructure."
   ]
  },
  {
   "cell_type": "markdown",
   "id": "aa6caef7-e9ae-4317-8b31-e20c1213e99d",
   "metadata": {},
   "source": [
    "#### Suppression steering\n",
    "\n",
    "The following code assumes that 4 devices were used for parallelism, and that outputs were saved under the directory `results/fir/src_llm_evals/`."
   ]
  },
  {
   "cell_type": "code",
   "execution_count": 52,
   "id": "7015c724-93ca-4d7b-9308-6303c0dfbcd7",
   "metadata": {},
   "outputs": [],
   "source": [
    "import pickle\n",
    "num_devices = 4\n",
    "\n",
    "src_llm_evals_arr = []\n",
    "for i in range(num_devices):\n",
    "    with open(f'results/fir/src_llm_evals/device_{i}.pkl', 'rb') as fp:\n",
    "        src_llm_evals_arr.append(pickle.load(fp))\n",
    "\n",
    "\n",
    "src_probs_all = {\n",
    "    'src_mentioned': { layer: 0 for layer in src_llm_evals['probs'].keys() },\n",
    "    'src_primary': { layer: 0 for layer in src_llm_evals['probs'].keys() } ,\n",
    "    'dst_mentioned': { layer: 0 for layer in src_llm_evals['probs'].keys() } ,\n",
    "    'dst_primary': { layer: 0 for layer in src_llm_evals['probs'].keys() },\n",
    "    'total': { layer: 0 for layer in src_llm_evals['probs'].keys() } \n",
    "}\n",
    "\n",
    "for cur_src_llm_evals in src_llm_evals_arr:\n",
    "    for layer, layer_probs in cur_src_llm_evals['probs'].items():\n",
    "        for training_split_idx, training_split in enumerate(layer_probs):\n",
    "            for eval_split_idx, eval_split in enumerate(training_split):\n",
    "                total = eval_split[0].shape[0]\n",
    "                src_mentioned = np.sum(eval_split[0][:, 0] > 0.5)\n",
    "                src_primary = np.sum(eval_split[1][:, 0] > 0.5)\n",
    "                dst_mentioned = np.sum(eval_split[2][:, 0] > 0.5)\n",
    "                dst_primary = np.sum(eval_split[3][:, 0] > 0.5)\n",
    "    \n",
    "                src_probs_all['total'][layer] += total\n",
    "                src_probs_all['src_mentioned'][layer] += src_mentioned\n",
    "                src_probs_all['src_primary'][layer] += src_primary\n",
    "                src_probs_all['dst_mentioned'][layer] += dst_mentioned\n",
    "                src_probs_all['dst_primary'][layer] += dst_primary"
   ]
  },
  {
   "cell_type": "markdown",
   "id": "ceb641e8-7f45-42fe-8586-2693140e762a",
   "metadata": {},
   "source": [
    "#### Promotion steering\n",
    "The following code assumes that 4 devices were used for parallelism, and that outputs were saved under the directory `results/fir/dst_llm_evals/`."
   ]
  },
  {
   "cell_type": "code",
   "execution_count": 53,
   "id": "54ae54b2-6f5a-4b4a-9d26-b0ab1125962f",
   "metadata": {},
   "outputs": [],
   "source": [
    "num_devices = 4\n",
    "\n",
    "dst_llm_evals_arr = []\n",
    "for i in range(num_devices):\n",
    "    with open(f'results/fir/dst_llm_evals/device_{i}.pkl', 'rb') as fp:\n",
    "        dst_llm_evals_arr.append(pickle.load(fp))\n",
    "\n",
    "dst_probs_all = {\n",
    "    'src_mentioned': { layer: 0 for layer in dst_llm_evals['probs'].keys() },\n",
    "    'src_primary': { layer: 0 for layer in dst_llm_evals['probs'].keys() } ,\n",
    "    'dst_mentioned': { layer: 0 for layer in dst_llm_evals['probs'].keys() } ,\n",
    "    'dst_primary': { layer: 0 for layer in dst_llm_evals['probs'].keys() },\n",
    "    'total': { layer: 0 for layer in dst_llm_evals['probs'].keys() } \n",
    "}\n",
    "\n",
    "for cur_dst_llm_evals in dst_llm_evals_arr:\n",
    "    for layer, layer_probs in cur_dst_llm_evals['probs'].items():\n",
    "        for training_split_idx, training_split in enumerate(layer_probs):\n",
    "            for eval_split_idx, eval_split in enumerate(training_split):\n",
    "                if eval_split[0] is None: continue\n",
    "                total = eval_split[0].shape[0]\n",
    "                src_mentioned = np.sum(eval_split[0][:, 0] > 0.5)\n",
    "                src_primary = np.sum(eval_split[1][:, 0] > 0.5)\n",
    "                dst_mentioned = np.sum(eval_split[2][:, 0] > 0.5)\n",
    "                dst_primary = np.sum(eval_split[3][:, 0] > 0.5)\n",
    "    \n",
    "                dst_probs_all['total'][layer] += total\n",
    "                dst_probs_all['src_mentioned'][layer] += src_mentioned\n",
    "                dst_probs_all['src_primary'][layer] += src_primary\n",
    "                dst_probs_all['dst_mentioned'][layer] += dst_mentioned\n",
    "                dst_probs_all['dst_primary'][layer] += dst_primary"
   ]
  },
  {
   "cell_type": "markdown",
   "id": "66097eed-262d-455e-a52a-41ade56480ec",
   "metadata": {},
   "source": [
    "#### CAA steering\n",
    "\n",
    "The following code assumes that 4 devices were used for parallelism, and that outputs were saved under the directory `results/fir/caa_llm_evals/`."
   ]
  },
  {
   "cell_type": "code",
   "execution_count": 55,
   "id": "045c23e8-7b19-430f-847b-38dbf857b559",
   "metadata": {},
   "outputs": [],
   "source": [
    "num_devices = 4\n",
    "\n",
    "caa_llm_evals_arr = []\n",
    "\n",
    "for i in range(num_devices):\n",
    "    with open(f'results/fir/caa_llm_evals/device_{i}.pkl', 'rb') as fp:\n",
    "        caa_llm_evals_arr.append(pickle.load(fp))\n",
    "\n",
    "caa_probs_all = {\n",
    "    'src_mentioned': { layer: 0 for layer in dst_llm_evals['probs'].keys() },\n",
    "    'src_primary': { layer: 0 for layer in dst_llm_evals['probs'].keys()  } ,\n",
    "    'dst_mentioned': { layer: 0 for layer in dst_llm_evals['probs'].keys() } ,\n",
    "    'dst_primary': { layer: 0 for layer in dst_llm_evals['probs'].keys() },\n",
    "    'total': { layer: 0 for layer in dst_llm_evals['probs'].keys() } \n",
    "}\n",
    "\n",
    "for cur_caa_llm_evals in caa_llm_evals_arr:\n",
    "    for layer, layer_probs in cur_caa_llm_evals['probs'].items():\n",
    "        for eval_split_idx, eval_split in enumerate(layer_probs[0]):\n",
    "            # if eval_split[0] is None: continue\n",
    "            total = eval_split[0].shape[0]\n",
    "            src_mentioned = np.sum(eval_split[0][:, 0] > 0.5)\n",
    "            src_primary = np.sum(eval_split[1][:, 0] > 0.5)\n",
    "            dst_mentioned = np.sum(eval_split[2][:, 0] > 0.5)\n",
    "            dst_primary = np.sum(eval_split[3][:, 0] > 0.5)\n",
    "\n",
    "            caa_probs_all['total'][layer] += total\n",
    "            caa_probs_all['src_mentioned'][layer] += src_mentioned\n",
    "            caa_probs_all['src_primary'][layer] += src_primary\n",
    "            caa_probs_all['dst_mentioned'][layer] += dst_mentioned\n",
    "            caa_probs_all['dst_primary'][layer] += dst_primary"
   ]
  },
  {
   "cell_type": "markdown",
   "id": "eca259f8-4153-4234-a41e-5d592fd2527f",
   "metadata": {},
   "source": [
    "### Reentrant steering\n",
    "\n",
    "For reentrant steering, instead of using a parallelizing script to evaluate generations, run the below code."
   ]
  },
  {
   "cell_type": "code",
   "execution_count": 267,
   "id": "0c9c8450-897f-47a1-8882-99b208e36a01",
   "metadata": {},
   "outputs": [
    {
     "name": "stderr",
     "output_type": "stream",
     "text": [
      "100%|█████████████████████████████████████████████| 6/6 [01:48<00:00, 18.01s/it]\n",
      "100%|█████████████████████████████████████████████| 6/6 [01:31<00:00, 15.24s/it]\n",
      "100%|█████████████████████████████████████████████| 6/6 [02:02<00:00, 20.50s/it]\n",
      "100%|█████████████████████████████████████████████| 6/6 [01:40<00:00, 16.81s/it]\n",
      "100%|█████████████████████████████████████████████| 6/6 [01:27<00:00, 14.65s/it]\n",
      "100%|█████████████████████████████████████████████| 6/6 [01:37<00:00, 16.19s/it]\n"
     ]
    }
   ],
   "source": [
    "with open('results/fir/reentrant_1_10_gens.pkl', 'rb') as fp:\n",
    "    reentrant_steered_gens = pickle.load(fp)\n",
    "\n",
    "reentrant_yes_probs = [ # training split\n",
    "    [ # eval split\n",
    "        [None, None, None, None]\n",
    "    for _ in range(6) ]\n",
    "for _ in range(6)]\n",
    "    \n",
    "reentrant_outdict = {'probs': reentrant_yes_probs, 'eval_templates': eval_templates}\n",
    "reentrant_outpath = 'results/fir/reentrant_llm_evals.pkl'\n",
    "\n",
    "batch_size = 6\n",
    "for training_split_idx in range(6):\n",
    "    for eval_split_idx in tqdm.tqdm(range(6)):\n",
    "        src_occupation = get_dataset.occupations[eval_split_idx]\n",
    "        dst_occupation = get_dataset.occupations[(eval_split_idx+1)%len(occupations)]\n",
    "        src_attrib = get_dataset.get_indef_article(src_occupation) + src_occupation\n",
    "        dst_attrib = get_dataset.get_indef_article(dst_occupation) + dst_occupation\n",
    "\n",
    "        split = list(reentrant_steered_gens['generations'][training_split_idx][0]['generations_dict'].values())[eval_split_idx]\n",
    "        split = split[:40]\n",
    "\n",
    "        eval_prompts = make_behavioral_eval_prompts(split, eval_template=eval_templates['has_attrib'], eval_args=dict(entity_attribute=src_attrib))\n",
    "        src_mentioned = get_batch_yes_probs(eval_prompts, batch_size=batch_size)\n",
    "        unoom()\n",
    "        \n",
    "        eval_prompts = make_behavioral_eval_prompts(split, eval_template=eval_templates['primary_attribute'], eval_args=dict(entity_attribute=src_attrib))\n",
    "        src_primary = get_batch_yes_probs(eval_prompts, batch_size=batch_size)\n",
    "        unoom()\n",
    "        \n",
    "        eval_prompts = make_behavioral_eval_prompts(split, eval_template=eval_templates['has_attrib'], eval_args=dict(entity_attribute=dst_attrib))\n",
    "        dst_mentioned = get_batch_yes_probs(eval_prompts, batch_size=batch_size)\n",
    "        unoom()\n",
    "        \n",
    "        eval_prompts = make_behavioral_eval_prompts(split, eval_template=eval_templates['primary_attribute'], eval_args=dict(entity_attribute=dst_attrib))\n",
    "        dst_primary = get_batch_yes_probs(eval_prompts, batch_size=batch_size)\n",
    "        unoom()\n",
    "\n",
    "        reentrant_yes_probs[training_split_idx][eval_split_idx] = [src_mentioned, src_primary, dst_mentioned, dst_primary]\n",
    "\n",
    "        with open(reentrant_outpath, 'wb') as fp:\n",
    "            pickle.dump(reentrant_outdict, fp)"
   ]
  },
  {
   "cell_type": "markdown",
   "id": "50d14856-6802-41e8-bf69-a8d7fd9dc2f9",
   "metadata": {},
   "source": [
    "### Plot all results"
   ]
  },
  {
   "cell_type": "code",
   "execution_count": 58,
   "id": "9322d660-147c-4340-9160-c0fd19664cb2",
   "metadata": {
    "jupyter": {
     "source_hidden": true
    }
   },
   "outputs": [
    {
     "data": {
      "image/png": "[encoded data removed]",
      "text/plain": [
       "<Figure size 640x480 with 1 Axes>"
      ]
     },
     "metadata": {},
     "output_type": "display_data"
    }
   ],
   "source": [
    "import matplotlib.pyplot as plt\n",
    "plt.rcParams['font.family'] = 'serif'\n",
    "\n",
    "plt.plot(src_probs_all['src_mentioned'].keys(),\n",
    "    np.array(list(src_probs_all['src_mentioned'].values()))/np.array(list(src_probs_all['total'].values())),\n",
    "    color='C0', linestyle='dashed', marker='.'\n",
    ")\n",
    "plt.plot(src_probs_all['dst_mentioned'].keys(),\n",
    "    np.array(list(src_probs_all['dst_mentioned'].values()))/np.array(list(src_probs_all['total'].values())),\n",
    "    color='C0', label='Suppression', marker='.'\n",
    ")\n",
    "\n",
    "plt.plot(dst_probs_all['src_mentioned'].keys(),\n",
    "    np.array(list(dst_probs_all['src_mentioned'].values()))/np.array(list(dst_probs_all['total'].values())),\n",
    "    color='C1', linestyle='dashed', marker='.'\n",
    ")\n",
    "plt.plot(dst_probs_all['dst_mentioned'].keys(),\n",
    "    np.array(list(dst_probs_all['dst_mentioned'].values()))/np.array(list(dst_probs_all['total'].values())),\n",
    "    color='C1', label='Promotion', marker='.'\n",
    ")\n",
    "\n",
    "plt.plot(caa_probs_all['src_mentioned'].keys(),\n",
    "    np.array(list(caa_probs_all['src_mentioned'].values()))/np.array(list(caa_probs_all['total'].values())),\n",
    "    color='C2', linestyle='dashed', marker='.'\n",
    ")\n",
    "plt.plot(caa_probs_all['dst_mentioned'].keys(),\n",
    "    np.array(list(caa_probs_all['dst_mentioned'].values()))/np.array(list(caa_probs_all['total'].values())),\n",
    "    color='C2', label='CAA', marker='.'\n",
    ")\n",
    "\n",
    "plt.axhline(reentrant_probs_all['src_mentioned']/reentrant_probs_all['total'],\n",
    "    color='C3', linestyle='dashed',\n",
    ")\n",
    "plt.axhline(reentrant_probs_all['dst_mentioned']/reentrant_probs_all['total'],\n",
    "    color='C3', label='Reentrant',\n",
    ")\n",
    "plt.legend(framealpha=1)\n",
    "plt.xlabel(\"Layer\")\n",
    "plt.ylabel(\"Frequency\")\n",
    "\n",
    "#plt.title(\"Frequency of fictitious (solid) / real (dashed) attribute\\nappearance in steered generations\")\n",
    "plt.show()"
   ]
  },
  {
   "cell_type": "code",
   "execution_count": 61,
   "id": "a0bf5d1d-c250-413a-8592-295f99b400a5",
   "metadata": {
    "jupyter": {
     "source_hidden": true
    }
   },
   "outputs": [
    {
     "data": {
      "image/png": "[encoded data removed]",
      "text/plain": [
       "<Figure size 650x400 with 1 Axes>"
      ]
     },
     "metadata": {},
     "output_type": "display_data"
    }
   ],
   "source": [
    "import matplotlib.pyplot as plt\n",
    "\n",
    "plt.plot(src_probs_all['src_primary'].keys(),\n",
    "    np.array(list(src_probs_all['src_primary'].values()))/np.array(list(src_probs_all['total'].values())),\n",
    "    color='C0', linestyle='dashed', marker='.'\n",
    ")\n",
    "plt.plot(src_probs_all['dst_primary'].keys(),\n",
    "    np.array(list(src_probs_all['dst_primary'].values()))/np.array(list(src_probs_all['total'].values())),\n",
    "    color='C0', label='Suppression', marker='.'\n",
    ")\n",
    "\n",
    "plt.plot(dst_probs_all['src_primary'].keys(),\n",
    "    np.array(list(dst_probs_all['src_primary'].values()))/np.array(list(dst_probs_all['total'].values())),\n",
    "    color='C1', linestyle='dashed', marker='.'\n",
    ")\n",
    "plt.plot(dst_probs_all['dst_primary'].keys(),\n",
    "    np.array(list(dst_probs_all['dst_primary'].values()))/np.array(list(dst_probs_all['total'].values())),\n",
    "    color='C1', label='Promotion', marker='.'\n",
    ")\n",
    "\n",
    "plt.plot(caa_probs_all['src_primary'].keys(),\n",
    "    np.array(list(caa_probs_all['src_primary'].values()))/np.array(list(caa_probs_all['total'].values())),\n",
    "    color='C2', linestyle='dashed', marker='.'\n",
    ")\n",
    "plt.plot(caa_probs_all['dst_primary'].keys(),\n",
    "    np.array(list(caa_probs_all['dst_primary'].values()))/np.array(list(caa_probs_all['total'].values())),\n",
    "    color='C2', label='CAA', marker='.'\n",
    ")\n",
    "\n",
    "plt.axhline(reentrant_probs_all['src_primary']/reentrant_probs_all['total'],\n",
    "    color='C3', linestyle='dashed'\n",
    ")\n",
    "plt.axhline(reentrant_probs_all['dst_primary']/reentrant_probs_all['total'],\n",
    "    color='C3', label='Reentrant'\n",
    ")\n",
    "\n",
    "plt.gca().figure.set_size_inches(6.5, 4)\n",
    "\n",
    "plt.legend(framealpha=1)\n",
    "plt.xlabel(\"Layer\")\n",
    "plt.ylabel(\"Frequency\")\n",
    "#plt.title(\"Frequency of fictitious (solid) / real (dashed) attribute\\nas main topic in steered generations\")\n",
    "plt.show()"
   ]
  },
  {
   "cell_type": "markdown",
   "id": "66aaae5c-f616-4758-bbd2-df5586fa5e84",
   "metadata": {},
   "source": [
    "# Section 3.3: Quantitative analysis"
   ]
  },
  {
   "cell_type": "markdown",
   "id": "b3b2f6e5-7776-475e-9ee2-5bc92391bdb2",
   "metadata": {},
   "source": [
    "## Load base model"
   ]
  },
  {
   "cell_type": "code",
   "execution_count": 4,
   "id": "7aa1c254-b588-4fc3-ab9b-672d8126c304",
   "metadata": {},
   "outputs": [
    {
     "name": "stderr",
     "output_type": "stream",
     "text": [
      "Loading checkpoint shards: 100%|██████████████████| 3/3 [00:00<00:00,  5.50it/s]\n"
     ]
    }
   ],
   "source": [
    "tokenizer = AutoTokenizer.from_pretrained(\"google/gemma-2-2b\")\n",
    "device = 'cuda:7'\n",
    "base_model = AutoModelForCausalLM.from_pretrained(\"google/gemma-2-2b\").to(dtype=torch.bfloat16).to(device=device)"
   ]
  },
  {
   "cell_type": "markdown",
   "id": "dcc46312-a997-43cd-b5f4-2666259de90d",
   "metadata": {},
   "source": [
    "## Setup functions"
   ]
  },
  {
   "cell_type": "code",
   "execution_count": 38,
   "id": "7dce3b14-56f9-41b9-9741-18d1a4f366a8",
   "metadata": {},
   "outputs": [],
   "source": [
    "flatten = lambda l: list(reduce(lambda x,y: x+y, l))\n",
    "\n",
    "make_prompt = lambda name, occupation: get_dataset.template.replace('{article}', get_indef_article(occupation)).replace('{occupation}', occupation).replace('{}', name)\n",
    "\n",
    "def extract_occupation_from_prompt(p):\n",
    "    a = lambda x: get_dataset.get_indef_article(x) + '**' + x + '**'\n",
    "    for i, occupation in enumerate(get_dataset.occupations):\n",
    "        if a(occupation) in p: return occupation\n",
    "\n",
    "def get_p_and_c(gen):\n",
    "    p = make_prompt(extract_name_from_prompt(gen), extract_occupation_from_prompt(gen))\n",
    "    c = gen[len(p):]\n",
    "    p = p.replace('<start_of_turn>', '< start_of_turn >').replace('<end_of_turn>', '< end_of_turn >')\n",
    "    c = c.replace('<start_of_turn>', '< start_of_turn >').replace('<end_of_turn>', '< end_of_turn >')\n",
    "    return p, c\n",
    "\n",
    "@torch.no_grad()\n",
    "def get_prob_for_completion(model, tokenizer, context, prompt, completion, do_plot=False):    \n",
    "    base_len = len(tokenizer(context + prompt).input_ids)\n",
    "    completion_len = len(tokenizer(context + prompt + completion).input_ids) - base_len\n",
    "    logits = model(tokenizer(context + prompt + completion, return_tensors='pt').input_ids.to(device=device), use_cache=False, num_logits_to_keep=completion_len+1).logits.to(dtype=torch.bfloat16)\n",
    "    probs = torch.nn.functional.softmax(logits, dim=-1)\n",
    "    del logits\n",
    "    completion_probs = []\n",
    "    all_tokens = tokenizer(context + prompt + completion).input_ids\n",
    "    for i in range(len(all_tokens) - base_len):\n",
    "        prob = probs[0, i, all_tokens[base_len + i]].item()\n",
    "        completion_probs.append(prob)\n",
    "    del probs\n",
    "    completion_probs = np.array(completion_probs)\n",
    "    if do_plot:\n",
    "        plt.plot(completion_probs)\n",
    "        plt.show()\n",
    "    return completion_probs\n",
    "\n",
    "@torch.no_grad()\n",
    "def get_probs_for_gens(model, tokenizer, ctx, gens, split_len=40, gc_interval=3):\n",
    "    probs = [[] for _ in gens]\n",
    "    for i, split in enumerate(gens):\n",
    "        split = [x for x in split if extract_name_from_prompt(x) not in ctx]\n",
    "        split = split[:40]\n",
    "        for gen in tqdm.tqdm(split):\n",
    "            p, c = get_p_and_c(gen)\n",
    "            if extract_name_from_prompt(p) in ctx: continue\n",
    "            prob = get_prob_for_completion(model, tokenizer, ctx, p, c, do_plot=False)\n",
    "            probs[i].append(prob)\n",
    "        if i % gc_interval == 0: unoom()\n",
    "    return probs"
   ]
  },
  {
   "cell_type": "code",
   "execution_count": 36,
   "id": "c7a93a78-b658-418e-9a24-76f6e9692c69",
   "metadata": {},
   "outputs": [],
   "source": [
    "get_indef_article = lambda x: 'an ' if x[0] in 'aeio' else 'a '\n",
    "\n",
    "def get_gender(p):\n",
    "    male = [\"He \", \" he \", \" him \", \" his \"]\n",
    "    female = [\"She \", \" she \", \" her \", \" hers \"]\n",
    "    for x in male:\n",
    "        if x in p: return 1\n",
    "    for x in female:\n",
    "        if x in p: return -1\n",
    "    return 0\n",
    "\n",
    "def extract_name_from_prompt(p):\n",
    "    s1 = '>model\\n'\n",
    "    s2 = ' is best known for being a'\n",
    "    \n",
    "    return p[p.find(s1)+len(s1):p.find(s2)]\n",
    "\n",
    "def replace_name(p, name2):\n",
    "    name = extract_name_from_prompt(p)\n",
    "    \n",
    "    first_name = name.split(' ')[0]\n",
    "    last_name_multi = ' '.join(name.split(' ')[1:])\n",
    "    last_name = name.split(' ')[-1]\n",
    "    \n",
    "    first_name2 = name2.split(' ')[0]\n",
    "    last_name2_multi = ' '.join(name2.split(' ')[1:])\n",
    "    last_name2 = name2.split(' ')[-1]\n",
    "\n",
    "    p = p.replace(name, name2)\n",
    "    if len(name.split(' ')) > 1:\n",
    "        p = p.replace(last_name_multi, last_name2_multi)\n",
    "        p = p.replace(last_name, last_name2)\n",
    "        p = p.replace(first_name, first_name2)\n",
    "    return p"
   ]
  },
  {
   "cell_type": "markdown",
   "id": "a851adc1-d41f-40f9-b66d-789371e0fd43",
   "metadata": {},
   "source": [
    "## Get contexts\n",
    "\n",
    "This section contains code for getting our real, incongruous, and fictitious contexts."
   ]
  },
  {
   "cell_type": "markdown",
   "id": "ff716757-07b7-4327-8fb5-d5e638fc17b7",
   "metadata": {},
   "source": [
    "First, get model generations on real prompts."
   ]
  },
  {
   "cell_type": "code",
   "execution_count": 6,
   "id": "fbea07a5-c455-4b23-8c2a-6b9603570337",
   "metadata": {},
   "outputs": [],
   "source": [
    "import time\n",
    "def get_generations(layer, vector, prompt_splits, split_names, sample_kwargs=None):\n",
    "    if sample_kwargs is None: sample_kwargs = {}\n",
    "    new_sample_kwargs = dict(use_cache=True, max_new_tokens=500, do_sample=False)\n",
    "    new_sample_kwargs.update(sample_kwargs)\n",
    "\n",
    "    generations_dict = {}\n",
    "    cleanup = lambda x: x.replace('<bos>', '').replace('<eos>', '').replace('<pad>', '')\n",
    "    for i in range(len(split_names)):\n",
    "        start_time = time.time()\n",
    "        with steering_opt.hf_hooks_contextmanager(model, [(layer, steering_opt.make_steering_hook_hf(vector))]):\n",
    "            token_info = tokenizer(prompt_splits[i], padding=True, padding_side='left', return_tensors='pt').to(device)\n",
    "            print(token_info.input_ids.shape)\n",
    "            generated_tokens = model.generate(**token_info, **new_sample_kwargs)\n",
    "        generations_dict[split_names[i]] = [cleanup(x) for x in tokenizer.batch_decode(generated_tokens)]\n",
    "        end_time = time.time()\n",
    "        print(f'Split {split_names[i]} finished in {end_time-start_time:.2f} seconds.')\n",
    "\n",
    "    return generations_dict"
   ]
  },
  {
   "cell_type": "code",
   "execution_count": null,
   "id": "f84eb88b-1d09-4a28-bfca-d2c0da8b4b49",
   "metadata": {},
   "outputs": [],
   "source": [
    "real_gens = get_generations(0,0,get_dataset.real_prompt_splits,get_dataset.occupations)"
   ]
  },
  {
   "cell_type": "code",
   "execution_count": 83,
   "id": "1b8cb741-14e5-4e8c-9821-5cdf6900bffe",
   "metadata": {},
   "outputs": [],
   "source": [
    "with open('results/fir/real_gens.pkl', 'wb') as fp:\n",
    "    pickle.dump(real_gens, fp)"
   ]
  },
  {
   "cell_type": "markdown",
   "id": "4faf2a9a-2230-403a-ab5e-751a17a25bf9",
   "metadata": {},
   "source": [
    "### Real context"
   ]
  },
  {
   "cell_type": "code",
   "execution_count": 111,
   "id": "a80a3ebc-5cec-41bb-a4a1-fdb06d35d296",
   "metadata": {},
   "outputs": [],
   "source": [
    "with open('results/fir/real_gens.pkl', 'rb') as fp:\n",
    "    real_gens = pickle.load(fp)\n",
    "\n",
    "import random\n",
    "ctx_prompts = []\n",
    "for cur_prompts in real_gens.values():\n",
    "    ctx_prompts = ctx_prompts + random.sample(cur_prompts, k=2)\n",
    "random.shuffle(ctx_prompts)\n",
    "real_ctx = '\\n'.join(ctx_prompts)\n",
    "real_ctx = real_ctx.replace('<', '< ').replace('>', ' >')\n",
    "\n",
    "with open('results/fir/real_ctx.pkl', 'wb') as fp:\n",
    "    pickle.dump(real_ctx, fp)"
   ]
  },
  {
   "cell_type": "markdown",
   "id": "23f8f28d-e47c-4fab-a652-64baec063161",
   "metadata": {},
   "source": [
    "### Fictitious context"
   ]
  },
  {
   "cell_type": "code",
   "execution_count": 111,
   "id": "c770350e-67ef-4204-819d-3edb9359b7ec",
   "metadata": {},
   "outputs": [],
   "source": [
    "import random\n",
    "import time\n",
    "ctx_prompts = []\n",
    "for _ in range(2):\n",
    "    for i, cur_prompts in enumerate(real_gens.values()):\n",
    "        fake_prompt = None\n",
    "        while fake_prompt is None or fake_prompt in ctx_prompts:\n",
    "            fake_prompt = random.choice(cur_prompts)\n",
    "        \n",
    "        fake_name = None\n",
    "        while fake_name is None:\n",
    "            fake_name_idx = random.choice(range(len(get_dataset.entity_names[(i+1)%len(get_dataset.entity_names)])))\n",
    "            fake_name_ = get_dataset.entity_names[(i+1)%len(get_dataset.entity_names)][fake_name_idx]\n",
    "            if fake_name_ in \"\\n\".join(ctx_prompts): continue\n",
    "            fake_name_gen = real_gens[get_dataset.occupations[(i+1)%len(get_dataset.entity_names)]][fake_name_idx]\n",
    "            if get_gender(fake_name_gen) != get_gender(fake_prompt):\n",
    "                continue\n",
    "            fake_name = fake_name_\n",
    "            break\n",
    "        fake_prompt = replace_name(fake_prompt, fake_name)\n",
    "            \n",
    "        ctx_prompts = ctx_prompts + [fake_prompt]\n",
    "random.shuffle(ctx_prompts)\n",
    "fake_ctx = '\\n'.join(ctx_prompts).replace('<start_of_turn>', '< start_of_turn >').replace('<end_of_turn>', '< end_of_turn >') + \"\\n\"\n",
    "\n",
    "with open('results/fir/fake_ctx.pkl', 'wb') as fp:\n",
    "    pickle.dump(fake_ctx, fp)"
   ]
  },
  {
   "cell_type": "markdown",
   "id": "bca5fcd0-7727-4f97-b592-837fd92fb7a2",
   "metadata": {},
   "source": [
    "## Layer 10 log-probs w.r.t. real and fictitious contexts (Tab. 1)"
   ]
  },
  {
   "cell_type": "markdown",
   "id": "c12821ca-37f7-49df-bb93-96669558773b",
   "metadata": {},
   "source": [
    "### Suppression steering"
   ]
  },
  {
   "cell_type": "markdown",
   "id": "cf6d4816-2558-4c6f-96ae-20bb6b5d11bf",
   "metadata": {},
   "source": [
    "#### Fictitious context"
   ]
  },
  {
   "cell_type": "code",
   "execution_count": 50,
   "id": "ee73240c-a3a3-468b-84be-de72733bf2e6",
   "metadata": {
    "scrolled": true
   },
   "outputs": [
    {
     "name": "stderr",
     "output_type": "stream",
     "text": [
      "100%|███████████████████████████████████████████| 40/40 [00:20<00:00,  1.97it/s]\n",
      "100%|███████████████████████████████████████████| 40/40 [00:20<00:00,  1.98it/s]\n",
      "100%|███████████████████████████████████████████| 40/40 [00:20<00:00,  1.96it/s]\n",
      "100%|███████████████████████████████████████████| 40/40 [00:20<00:00,  1.91it/s]\n",
      "100%|███████████████████████████████████████████| 40/40 [00:20<00:00,  1.94it/s]\n",
      "100%|███████████████████████████████████████████| 40/40 [00:20<00:00,  1.94it/s]\n",
      "100%|███████████████████████████████████████████| 40/40 [00:21<00:00,  1.90it/s]\n",
      "100%|███████████████████████████████████████████| 40/40 [00:20<00:00,  1.92it/s]\n",
      "100%|███████████████████████████████████████████| 40/40 [00:20<00:00,  1.91it/s]\n",
      "100%|███████████████████████████████████████████| 40/40 [00:21<00:00,  1.89it/s]\n",
      "100%|███████████████████████████████████████████| 40/40 [00:21<00:00,  1.90it/s]\n",
      "100%|███████████████████████████████████████████| 40/40 [00:20<00:00,  1.91it/s]\n",
      "100%|███████████████████████████████████████████| 40/40 [00:20<00:00,  1.91it/s]\n",
      "100%|███████████████████████████████████████████| 40/40 [00:20<00:00,  1.94it/s]\n",
      "100%|███████████████████████████████████████████| 40/40 [00:20<00:00,  1.95it/s]\n",
      "100%|███████████████████████████████████████████| 40/40 [00:20<00:00,  1.91it/s]\n",
      "100%|███████████████████████████████████████████| 40/40 [00:20<00:00,  1.93it/s]\n",
      "100%|███████████████████████████████████████████| 40/40 [00:20<00:00,  1.96it/s]\n",
      "100%|███████████████████████████████████████████| 40/40 [00:20<00:00,  1.95it/s]\n",
      "100%|███████████████████████████████████████████| 40/40 [00:20<00:00,  1.96it/s]\n",
      "100%|███████████████████████████████████████████| 40/40 [00:20<00:00,  1.98it/s]\n",
      "100%|███████████████████████████████████████████| 40/40 [00:20<00:00,  1.93it/s]\n",
      "100%|███████████████████████████████████████████| 40/40 [00:20<00:00,  1.94it/s]\n",
      "100%|███████████████████████████████████████████| 40/40 [00:20<00:00,  1.97it/s]\n",
      "100%|███████████████████████████████████████████| 40/40 [00:20<00:00,  1.92it/s]\n",
      "100%|███████████████████████████████████████████| 40/40 [00:20<00:00,  1.91it/s]\n",
      "100%|███████████████████████████████████████████| 40/40 [00:20<00:00,  1.94it/s]\n",
      "100%|███████████████████████████████████████████| 40/40 [00:21<00:00,  1.90it/s]\n",
      "100%|███████████████████████████████████████████| 40/40 [00:20<00:00,  1.92it/s]\n",
      "100%|███████████████████████████████████████████| 40/40 [00:20<00:00,  1.92it/s]\n",
      "100%|███████████████████████████████████████████| 40/40 [00:21<00:00,  1.90it/s]\n",
      "100%|███████████████████████████████████████████| 40/40 [00:21<00:00,  1.89it/s]\n",
      "100%|███████████████████████████████████████████| 40/40 [00:20<00:00,  1.94it/s]\n",
      "100%|███████████████████████████████████████████| 40/40 [00:21<00:00,  1.88it/s]\n",
      "100%|███████████████████████████████████████████| 40/40 [00:21<00:00,  1.90it/s]\n",
      "100%|███████████████████████████████████████████| 40/40 [00:20<00:00,  1.92it/s]\n"
     ]
    }
   ],
   "source": [
    "prompt_end = '**.\\n\\n'\n",
    "\n",
    "with open('results/fir/src_generations_all_layers.pkl', 'rb') as fp:\n",
    "    src_gens = pickle.load(fp)\n",
    "\n",
    "\n",
    "src10_gens_list = [list(x[0]['generations_dict'].values()) for x in src_gens[10]['generations']]\n",
    "\n",
    "src10_on_fake_ctx_lgprobs = [[ [] for _ in x ] for x in src10_gens_list]\n",
    "\n",
    "with torch.no_grad():\n",
    "    for j, my_gens in enumerate(src10_gens_list):\n",
    "        for i, cur_gens in enumerate(my_gens):\n",
    "            for gen in tqdm.tqdm(cur_gens[:40]):\n",
    "                gen = gen.replace('<start_of_turn>', '< start_of_turn >').replace('<end_of_turn>', '< end_of_turn >')\n",
    "                gen_tokens = tokenizer(gen, return_tensors='pt', add_special_tokens=False).input_ids\n",
    "                gen_len = gen_tokens.shape[1]\n",
    "                end_prompt_token_idx = len(tokenizer(gen[:gen.find(prompt_end)+len(prompt_end)]).input_ids)-1\n",
    "                completion_len = gen_len - end_prompt_token_idx\n",
    "                base_logits = base_model(tokenizer(fake_ctx + gen, return_tensors='pt').input_ids, num_logits_to_keep=completion_len+1).logits\n",
    "                base_probs = base_logits[0].softmax(dim=-1).detach()\n",
    "                base_lgprobs = base_probs.log2()\n",
    "                base_lgprobs = torch.gather(base_lgprobs[:-1], 1, gen_tokens[0, end_prompt_token_idx:].unsqueeze(1)).squeeze(1)\n",
    "                src10_on_fake_ctx_lgprobs[j][i].append(base_lgprobs.detach().cpu().float().numpy())\n",
    "                unoom()"
   ]
  },
  {
   "cell_type": "code",
   "execution_count": 51,
   "id": "44eb547f-2cc7-40bc-b674-5f5e49c10a0c",
   "metadata": {},
   "outputs": [],
   "source": [
    "with open('results/fir/src10_on_fake_ctx_lgprobs.pkl', 'wb') as fp:\n",
    "    pickle.dump(src10_on_fake_ctx_lgprobs, fp)"
   ]
  },
  {
   "cell_type": "markdown",
   "id": "8eeb5e87-6176-44a7-a2c9-f823a9fecad2",
   "metadata": {},
   "source": [
    "#### Real context"
   ]
  },
  {
   "cell_type": "code",
   "execution_count": 77,
   "id": "7fb86c8a-84f8-4c47-a308-3837d2ca14f7",
   "metadata": {
    "scrolled": true
   },
   "outputs": [
    {
     "name": "stderr",
     "output_type": "stream",
     "text": [
      "100%|███████████████████████████████████████████| 40/40 [00:25<00:00,  1.59it/s]\n",
      "100%|███████████████████████████████████████████| 40/40 [00:25<00:00,  1.60it/s]\n",
      "100%|███████████████████████████████████████████| 40/40 [00:25<00:00,  1.59it/s]\n",
      "100%|███████████████████████████████████████████| 40/40 [00:25<00:00,  1.56it/s]\n",
      "100%|███████████████████████████████████████████| 40/40 [00:25<00:00,  1.58it/s]\n",
      "100%|███████████████████████████████████████████| 40/40 [00:25<00:00,  1.55it/s]\n",
      "100%|███████████████████████████████████████████| 40/40 [00:25<00:00,  1.56it/s]\n",
      "100%|███████████████████████████████████████████| 40/40 [00:25<00:00,  1.56it/s]\n",
      "100%|███████████████████████████████████████████| 40/40 [00:25<00:00,  1.57it/s]\n",
      "100%|███████████████████████████████████████████| 40/40 [00:25<00:00,  1.55it/s]\n",
      "100%|███████████████████████████████████████████| 40/40 [00:26<00:00,  1.54it/s]\n",
      "100%|███████████████████████████████████████████| 40/40 [00:25<00:00,  1.56it/s]\n",
      "100%|███████████████████████████████████████████| 40/40 [00:25<00:00,  1.56it/s]\n",
      "100%|███████████████████████████████████████████| 40/40 [00:25<00:00,  1.56it/s]\n",
      "100%|███████████████████████████████████████████| 40/40 [00:25<00:00,  1.56it/s]\n",
      "100%|███████████████████████████████████████████| 40/40 [00:25<00:00,  1.56it/s]\n",
      "100%|███████████████████████████████████████████| 40/40 [00:25<00:00,  1.57it/s]\n",
      "100%|███████████████████████████████████████████| 40/40 [00:25<00:00,  1.57it/s]\n",
      "100%|███████████████████████████████████████████| 40/40 [00:25<00:00,  1.57it/s]\n",
      "100%|███████████████████████████████████████████| 40/40 [00:25<00:00,  1.56it/s]\n",
      "100%|███████████████████████████████████████████| 40/40 [00:25<00:00,  1.58it/s]\n",
      "100%|███████████████████████████████████████████| 40/40 [00:25<00:00,  1.57it/s]\n",
      "100%|███████████████████████████████████████████| 40/40 [00:25<00:00,  1.58it/s]\n",
      "100%|███████████████████████████████████████████| 40/40 [00:25<00:00,  1.57it/s]\n",
      "100%|███████████████████████████████████████████| 40/40 [00:25<00:00,  1.56it/s]\n",
      "100%|███████████████████████████████████████████| 40/40 [00:25<00:00,  1.57it/s]\n",
      "100%|███████████████████████████████████████████| 40/40 [00:25<00:00,  1.57it/s]\n",
      "100%|███████████████████████████████████████████| 40/40 [00:25<00:00,  1.56it/s]\n",
      "100%|███████████████████████████████████████████| 40/40 [00:25<00:00,  1.57it/s]\n",
      "100%|███████████████████████████████████████████| 40/40 [00:25<00:00,  1.55it/s]\n",
      "100%|███████████████████████████████████████████| 40/40 [00:25<00:00,  1.56it/s]\n",
      "100%|███████████████████████████████████████████| 40/40 [00:25<00:00,  1.55it/s]\n",
      "100%|███████████████████████████████████████████| 40/40 [00:25<00:00,  1.56it/s]\n",
      "100%|███████████████████████████████████████████| 40/40 [00:26<00:00,  1.54it/s]\n",
      "100%|███████████████████████████████████████████| 40/40 [00:25<00:00,  1.55it/s]\n",
      "100%|███████████████████████████████████████████| 40/40 [00:25<00:00,  1.56it/s]\n"
     ]
    }
   ],
   "source": [
    "prompt_end = '**.\\n\\n'\n",
    "\n",
    "with open('results/fir/src_generations_all_layers.pkl', 'rb') as fp:\n",
    "    src_gens = pickle.load(fp)\n",
    "\n",
    "\n",
    "src10_gens_list = [list(x[0]['generations_dict'].values()) for x in src_gens[10]['generations']]\n",
    "\n",
    "src10_on_real_ctx_lgprobs = [[ [] for _ in x ] for x in src10_gens_list]\n",
    "\n",
    "with torch.no_grad():\n",
    "    for j, my_gens in enumerate(src10_gens_list):\n",
    "        for i, cur_gens in enumerate(my_gens):\n",
    "            for gen in tqdm.tqdm(cur_gens[:40]):\n",
    "                gen = gen.replace('<start_of_turn>', '< start_of_turn >').replace('<end_of_turn>', '< end_of_turn >')\n",
    "                gen_tokens = tokenizer(gen, return_tensors='pt', add_special_tokens=False).input_ids\n",
    "                gen_len = gen_tokens.shape[1]\n",
    "                end_prompt_token_idx = len(tokenizer(gen[:gen.find(prompt_end)+len(prompt_end)]).input_ids)-1\n",
    "                completion_len = gen_len - end_prompt_token_idx\n",
    "                base_logits = base_model(tokenizer(real_ctx + gen, return_tensors='pt').input_ids, num_logits_to_keep=completion_len+1).logits\n",
    "                base_probs = base_logits[0].softmax(dim=-1).detach()\n",
    "                base_lgprobs = base_probs.log2()\n",
    "                base_lgprobs = torch.gather(base_lgprobs[:-1], 1, gen_tokens[0, end_prompt_token_idx:].unsqueeze(1)).squeeze(1)\n",
    "                src10_on_real_ctx_lgprobs[j][i].append(base_lgprobs.detach().cpu().float().numpy())\n",
    "                unoom()"
   ]
  },
  {
   "cell_type": "code",
   "execution_count": 78,
   "id": "e1fd9d22-b497-4791-aa30-6c39decf02d5",
   "metadata": {},
   "outputs": [],
   "source": [
    "with open('results/fir/src10_on_real_ctx_lgprobs.pkl', 'wb') as fp:\n",
    "    pickle.dump(src10_on_real_ctx_lgprobs, fp)"
   ]
  },
  {
   "cell_type": "markdown",
   "id": "a4b11ff4-2b47-4ddc-9585-c2bef2c6acb5",
   "metadata": {},
   "source": [
    "### Reentrant steering"
   ]
  },
  {
   "cell_type": "markdown",
   "id": "e754c57a-3f1c-4505-9889-91574a5267ba",
   "metadata": {},
   "source": [
    "#### Fictitious context"
   ]
  },
  {
   "cell_type": "code",
   "execution_count": 52,
   "id": "ab0cc578-8d77-4db3-ac95-717b896f9534",
   "metadata": {
    "scrolled": true
   },
   "outputs": [
    {
     "name": "stderr",
     "output_type": "stream",
     "text": [
      "100%|███████████████████████████████████████████| 40/40 [00:20<00:00,  1.92it/s]\n",
      "100%|███████████████████████████████████████████| 40/40 [00:20<00:00,  1.91it/s]\n",
      "100%|███████████████████████████████████████████| 40/40 [00:20<00:00,  1.93it/s]\n",
      "100%|███████████████████████████████████████████| 40/40 [00:21<00:00,  1.87it/s]\n",
      "100%|███████████████████████████████████████████| 40/40 [00:21<00:00,  1.89it/s]\n",
      "100%|███████████████████████████████████████████| 40/40 [00:21<00:00,  1.83it/s]\n",
      "100%|███████████████████████████████████████████| 40/40 [00:20<00:00,  1.96it/s]\n",
      "100%|███████████████████████████████████████████| 40/40 [00:20<00:00,  1.98it/s]\n",
      "100%|███████████████████████████████████████████| 40/40 [00:20<00:00,  1.96it/s]\n",
      "100%|███████████████████████████████████████████| 40/40 [00:20<00:00,  1.98it/s]\n",
      "100%|███████████████████████████████████████████| 40/40 [00:20<00:00,  1.92it/s]\n",
      "100%|███████████████████████████████████████████| 40/40 [00:20<00:00,  1.93it/s]\n",
      "100%|███████████████████████████████████████████| 40/40 [00:21<00:00,  1.85it/s]\n",
      "100%|███████████████████████████████████████████| 40/40 [00:21<00:00,  1.84it/s]\n",
      "100%|███████████████████████████████████████████| 40/40 [00:21<00:00,  1.86it/s]\n",
      "100%|███████████████████████████████████████████| 40/40 [00:21<00:00,  1.82it/s]\n",
      "100%|███████████████████████████████████████████| 40/40 [00:21<00:00,  1.82it/s]\n",
      "100%|███████████████████████████████████████████| 40/40 [00:21<00:00,  1.84it/s]\n",
      "100%|███████████████████████████████████████████| 40/40 [00:20<00:00,  1.91it/s]\n",
      "100%|███████████████████████████████████████████| 40/40 [00:20<00:00,  1.93it/s]\n",
      "100%|███████████████████████████████████████████| 40/40 [00:20<00:00,  1.94it/s]\n",
      "100%|███████████████████████████████████████████| 40/40 [00:20<00:00,  1.91it/s]\n",
      "100%|███████████████████████████████████████████| 40/40 [00:21<00:00,  1.89it/s]\n",
      "100%|███████████████████████████████████████████| 40/40 [00:21<00:00,  1.90it/s]\n",
      "100%|███████████████████████████████████████████| 40/40 [00:20<00:00,  1.96it/s]\n",
      "100%|███████████████████████████████████████████| 40/40 [00:20<00:00,  1.96it/s]\n",
      "100%|███████████████████████████████████████████| 40/40 [00:20<00:00,  1.97it/s]\n",
      "100%|███████████████████████████████████████████| 40/40 [00:20<00:00,  1.94it/s]\n",
      "100%|███████████████████████████████████████████| 40/40 [00:20<00:00,  1.95it/s]\n",
      "100%|███████████████████████████████████████████| 40/40 [00:20<00:00,  1.98it/s]\n",
      "100%|███████████████████████████████████████████| 40/40 [00:20<00:00,  1.94it/s]\n",
      "100%|███████████████████████████████████████████| 40/40 [00:20<00:00,  1.96it/s]\n",
      "100%|███████████████████████████████████████████| 40/40 [00:20<00:00,  1.95it/s]\n",
      "100%|███████████████████████████████████████████| 40/40 [00:21<00:00,  1.89it/s]\n",
      "100%|███████████████████████████████████████████| 40/40 [00:21<00:00,  1.90it/s]\n",
      "100%|███████████████████████████████████████████| 40/40 [00:21<00:00,  1.90it/s]\n"
     ]
    }
   ],
   "source": [
    "prompt_end = '**.\\n\\n'\n",
    "\n",
    "with open(\"results/fir/reentrant_1_10_gens.pkl\", \"rb\") as fp:\n",
    "    reentrant_1_10_gens = pickle.load(fp)\n",
    "reentrant_gens_list = [list(x[0]['generations_dict'].values()) for x in reentrant_1_10_gens['generations']]\n",
    "\n",
    "reentrant1_10_on_fake_ctx_lgprobs = [[ [] for _ in x ] for x in reentrant_gens_list]\n",
    "\n",
    "with torch.no_grad():\n",
    "    for j, my_gens in enumerate(reentrant_gens_list):\n",
    "        for i, cur_gens in enumerate(my_gens):\n",
    "            for gen in tqdm.tqdm(cur_gens[:40]):\n",
    "                gen = gen.replace('<start_of_turn>', '< start_of_turn >').replace('<end_of_turn>', '< end_of_turn >')\n",
    "                gen_tokens = tokenizer(gen, return_tensors='pt', add_special_tokens=False).input_ids\n",
    "                gen_len = gen_tokens.shape[1]\n",
    "                end_prompt_token_idx = len(tokenizer(gen[:gen.find(prompt_end)+len(prompt_end)]).input_ids)-1\n",
    "                completion_len = gen_len - end_prompt_token_idx\n",
    "                base_logits = base_model(tokenizer(fake_ctx + gen, return_tensors='pt').input_ids, num_logits_to_keep=completion_len+1).logits\n",
    "                base_probs = base_logits[0].softmax(dim=-1).detach()\n",
    "                base_lgprobs = base_probs.log2()\n",
    "                base_lgprobs = torch.gather(base_lgprobs[:-1], 1, gen_tokens[0, end_prompt_token_idx:].unsqueeze(1)).squeeze(1)\n",
    "                reentrant1_10_on_fake_ctx_lgprobs[j][i].append(base_lgprobs.detach().cpu().float().numpy())\n",
    "                unoom()"
   ]
  },
  {
   "cell_type": "code",
   "execution_count": 59,
   "id": "b68b531d-7cb4-44c2-99dd-259bfc59922f",
   "metadata": {},
   "outputs": [],
   "source": [
    "with open('results/fir/reentrant1_10_on_fake_ctx_lgprobs.pkl', 'wb') as fp:\n",
    "    pickle.dump(reentrant1_10_on_fake_ctx_lgprobs, fp)"
   ]
  },
  {
   "cell_type": "markdown",
   "id": "320ac245-6d5a-447a-9069-b88cc91ae498",
   "metadata": {},
   "source": [
    "#### Real context"
   ]
  },
  {
   "cell_type": "code",
   "execution_count": 62,
   "id": "41259e89-5d7b-4e68-a944-d6a0db47d7a0",
   "metadata": {
    "scrolled": true
   },
   "outputs": [
    {
     "name": "stderr",
     "output_type": "stream",
     "text": [
      "100%|███████████████████████████████████████████| 40/40 [00:26<00:00,  1.49it/s]\n",
      "100%|███████████████████████████████████████████| 40/40 [00:25<00:00,  1.57it/s]\n",
      "100%|███████████████████████████████████████████| 40/40 [00:25<00:00,  1.59it/s]\n",
      "100%|███████████████████████████████████████████| 40/40 [00:25<00:00,  1.55it/s]\n",
      "100%|███████████████████████████████████████████| 40/40 [00:25<00:00,  1.56it/s]\n",
      "100%|███████████████████████████████████████████| 40/40 [00:25<00:00,  1.55it/s]\n",
      "100%|███████████████████████████████████████████| 40/40 [00:25<00:00,  1.58it/s]\n",
      "100%|███████████████████████████████████████████| 40/40 [00:25<00:00,  1.58it/s]\n",
      "100%|███████████████████████████████████████████| 40/40 [00:25<00:00,  1.57it/s]\n",
      "100%|███████████████████████████████████████████| 40/40 [00:25<00:00,  1.58it/s]\n",
      "100%|███████████████████████████████████████████| 40/40 [00:25<00:00,  1.58it/s]\n",
      "100%|███████████████████████████████████████████| 40/40 [00:25<00:00,  1.56it/s]\n",
      "100%|███████████████████████████████████████████| 40/40 [00:26<00:00,  1.53it/s]\n",
      "100%|███████████████████████████████████████████| 40/40 [00:26<00:00,  1.52it/s]\n",
      "100%|███████████████████████████████████████████| 40/40 [00:26<00:00,  1.53it/s]\n",
      "100%|███████████████████████████████████████████| 40/40 [00:26<00:00,  1.51it/s]\n",
      "100%|███████████████████████████████████████████| 40/40 [00:26<00:00,  1.54it/s]\n",
      "100%|███████████████████████████████████████████| 40/40 [00:26<00:00,  1.53it/s]\n",
      "100%|███████████████████████████████████████████| 40/40 [00:25<00:00,  1.58it/s]\n",
      "100%|███████████████████████████████████████████| 40/40 [00:25<00:00,  1.57it/s]\n",
      "100%|███████████████████████████████████████████| 40/40 [00:25<00:00,  1.55it/s]\n",
      "100%|███████████████████████████████████████████| 40/40 [00:25<00:00,  1.58it/s]\n",
      "100%|███████████████████████████████████████████| 40/40 [00:25<00:00,  1.56it/s]\n",
      "100%|███████████████████████████████████████████| 40/40 [00:25<00:00,  1.55it/s]\n",
      "100%|███████████████████████████████████████████| 40/40 [00:25<00:00,  1.59it/s]\n",
      "100%|███████████████████████████████████████████| 40/40 [00:25<00:00,  1.57it/s]\n",
      "100%|███████████████████████████████████████████| 40/40 [00:25<00:00,  1.58it/s]\n",
      "100%|███████████████████████████████████████████| 40/40 [00:25<00:00,  1.58it/s]\n",
      "100%|███████████████████████████████████████████| 40/40 [00:25<00:00,  1.59it/s]\n",
      "100%|███████████████████████████████████████████| 40/40 [00:25<00:00,  1.59it/s]\n",
      "100%|███████████████████████████████████████████| 40/40 [00:25<00:00,  1.57it/s]\n",
      "100%|███████████████████████████████████████████| 40/40 [00:25<00:00,  1.58it/s]\n",
      "100%|███████████████████████████████████████████| 40/40 [00:25<00:00,  1.58it/s]\n",
      "100%|███████████████████████████████████████████| 40/40 [00:25<00:00,  1.56it/s]\n",
      "100%|███████████████████████████████████████████| 40/40 [00:25<00:00,  1.55it/s]\n",
      "100%|███████████████████████████████████████████| 40/40 [00:25<00:00,  1.57it/s]\n"
     ]
    }
   ],
   "source": [
    "prompt_end = '**.\\n\\n'\n",
    "\n",
    "reentrant1_10_on_real_ctx_lgprobs = [[ [] for _ in x ] for x in reentrant_gens_list]\n",
    "\n",
    "with torch.no_grad():\n",
    "    for j, my_gens in enumerate(reentrant_gens_list):\n",
    "        for i, cur_gens in enumerate(my_gens):\n",
    "            for gen in tqdm.tqdm(cur_gens[:40]):\n",
    "                gen = gen.replace('<start_of_turn>', '< start_of_turn >').replace('<end_of_turn>', '< end_of_turn >')\n",
    "                gen_tokens = tokenizer(gen, return_tensors='pt', add_special_tokens=False).input_ids\n",
    "                gen_len = gen_tokens.shape[1]\n",
    "                end_prompt_token_idx = len(tokenizer(gen[:gen.find(prompt_end)+len(prompt_end)]).input_ids)-1\n",
    "                completion_len = gen_len - end_prompt_token_idx\n",
    "                base_logits = base_model(tokenizer(real_ctx + gen, return_tensors='pt').input_ids, num_logits_to_keep=completion_len+1).logits\n",
    "                base_probs = base_logits[0].softmax(dim=-1).detach()\n",
    "                base_lgprobs = base_probs.log2()\n",
    "                base_lgprobs = torch.gather(base_lgprobs[:-1], 1, gen_tokens[0, end_prompt_token_idx:].unsqueeze(1)).squeeze(1)\n",
    "                reentrant1_10_on_real_ctx_lgprobs[j][i].append(base_lgprobs.detach().cpu().float().numpy())\n",
    "                unoom()"
   ]
  },
  {
   "cell_type": "code",
   "execution_count": 63,
   "id": "e962f900-cdad-4c68-a382-65d51bd2c510",
   "metadata": {},
   "outputs": [],
   "source": [
    "with open('results/fir/reentrant1_10_on_real_ctx_lgprobs.pkl', 'wb') as fp:\n",
    "    pickle.dump(reentrant1_10_on_real_ctx_lgprobs, fp)"
   ]
  },
  {
   "cell_type": "markdown",
   "id": "a2912c27-9989-4b5b-aca0-c6a0793f1fe7",
   "metadata": {},
   "source": [
    "### Plot results"
   ]
  },
  {
   "cell_type": "code",
   "execution_count": 3,
   "id": "d79745bf-c416-4de1-94f7-c0c49cb49b43",
   "metadata": {},
   "outputs": [],
   "source": [
    "with open('results/fir/reentrant1_10_on_fake_ctx_lgprobs.pkl', 'rb') as fp:\n",
    "    reentrant1_10_on_fake_ctx_lgprobs = pickle.load(fp)\n",
    "\n",
    "with open('results/fir/reentrant1_10_on_real_ctx_lgprobs.pkl', 'rb') as fp:\n",
    "    reentrant1_10_on_real_ctx_lgprobs = pickle.load(fp)\n",
    "\n",
    "with open('results/fir/src10_on_fake_ctx_lgprobs.pkl', 'rb') as fp:\n",
    "    src10_on_fake_ctx_lgprobs = pickle.load(fp)\n",
    "\n",
    "with open('results/fir/src10_on_real_ctx_lgprobs.pkl', 'rb') as fp:\n",
    "    src10_on_real_ctx_lgprobs = pickle.load(fp)"
   ]
  },
  {
   "cell_type": "code",
   "execution_count": 7,
   "id": "ab1e40f9-5276-4c61-9898-c0bef01725f5",
   "metadata": {},
   "outputs": [
    {
     "data": {
      "image/png": "[encoded data removed]",
      "text/plain": [
       "<Figure size 640x480 with 1 Axes>"
      ]
     },
     "metadata": {},
     "output_type": "display_data"
    },
    {
     "name": "stdout",
     "output_type": "stream",
     "text": [
      "-1.1856163 -1.2542064 -1.3153344 -1.3676758\n"
     ]
    }
   ],
   "source": [
    "plen = 100\n",
    "mean_lgprobs_reentrant_fake = [x[:plen].mean() for x in flatten(flatten(reentrant1_10_on_fake_ctx_lgprobs))]\n",
    "mean_lgprobs_reentrant_real = [x[:plen].mean() for x in flatten(flatten(reentrant1_10_on_real_ctx_lgprobs))]\n",
    "mean_lgprobs_src_fake = [x[:plen].mean() for x in flatten(flatten(src10_on_fake_ctx_lgprobs))]\n",
    "mean_lgprobs_src_real = [x[:plen].mean() for x in flatten(flatten(src10_on_real_ctx_lgprobs))]\n",
    "\n",
    "plt.hist(mean_lgprobs_src_real, alpha=0.5, color='C0')\n",
    "plt.hist(mean_lgprobs_src_fake, alpha=0.5, color='C1')\n",
    "plt.hist(mean_lgprobs_reentrant_fake, alpha=0.5, color='C2')\n",
    "plt.hist(mean_lgprobs_reentrant_real, alpha=0.5, color='C3')\n",
    "\n",
    "plt.axvline(np.mean(mean_lgprobs_src_real), color='C0')\n",
    "plt.axvline(np.mean(mean_lgprobs_src_fake), color='C1')\n",
    "plt.axvline(np.mean(mean_lgprobs_reentrant_fake), color='C2')\n",
    "plt.axvline(np.mean(mean_lgprobs_reentrant_real), color='C3')\n",
    "plt.show()\n",
    "\n",
    "print(\n",
    "    np.mean(mean_lgprobs_src_real),\n",
    "    np.mean(mean_lgprobs_src_fake),\n",
    "    np.mean(mean_lgprobs_reentrant_fake),\n",
    "    np.mean(mean_lgprobs_reentrant_real)\n",
    ")"
   ]
  },
  {
   "cell_type": "markdown",
   "id": "7a88acfd-12d0-4ee6-bd80-577a2e24083d",
   "metadata": {},
   "source": [
    "The four values below the graph are the values used in Table 1."
   ]
  },
  {
   "cell_type": "markdown",
   "id": "b4092f83-d77b-4fde-aae8-9193f77764ca",
   "metadata": {},
   "source": [
    "## Base model log-probs with real context (Fig. 5)"
   ]
  },
  {
   "cell_type": "markdown",
   "id": "487263ba-68e7-421f-a875-d58aaea05881",
   "metadata": {},
   "source": [
    "### Real generations"
   ]
  },
  {
   "cell_type": "code",
   "execution_count": 53,
   "id": "9b103175-234f-4596-84b3-9c9f847b9641",
   "metadata": {},
   "outputs": [],
   "source": [
    "filtered_real_gens = [[x for x in y if extract_name_from_prompt(x) not in real_ctx] for y in list(real_gens.values())]"
   ]
  },
  {
   "cell_type": "code",
   "execution_count": 55,
   "id": "2d8c3d7a-ae67-46ec-87ba-57b0bb65c348",
   "metadata": {},
   "outputs": [
    {
     "name": "stderr",
     "output_type": "stream",
     "text": [
      "100%|███████████████████████████████████████████| 40/40 [00:13<00:00,  2.86it/s]\n",
      "100%|███████████████████████████████████████████| 40/40 [00:14<00:00,  2.85it/s]\n",
      "100%|███████████████████████████████████████████| 40/40 [00:13<00:00,  2.86it/s]\n",
      "100%|███████████████████████████████████████████| 40/40 [00:14<00:00,  2.78it/s]\n",
      "100%|███████████████████████████████████████████| 40/40 [00:14<00:00,  2.74it/s]\n",
      "100%|███████████████████████████████████████████| 40/40 [00:14<00:00,  2.77it/s]\n"
     ]
    }
   ],
   "source": [
    "real_probs = get_probs_for_gens(base_model, tokenizer, real_ctx, filtered_real_gens)"
   ]
  },
  {
   "cell_type": "code",
   "execution_count": 58,
   "id": "5f675288-ce58-41b6-ae53-1a7dd09547b6",
   "metadata": {},
   "outputs": [
    {
     "data": {
      "text/plain": [
       "-0.9872097282837313"
      ]
     },
     "execution_count": 58,
     "metadata": {},
     "output_type": "execute_result"
    }
   ],
   "source": [
    "np.median(flatten([[np.mean(np.log2(x)) for x in y] for y in real_probs]))"
   ]
  },
  {
   "cell_type": "markdown",
   "id": "1f7a0e59-2a94-4a70-8fe8-deadec5e1aae",
   "metadata": {},
   "source": [
    "### Unsteered generations"
   ]
  },
  {
   "cell_type": "code",
   "execution_count": 45,
   "id": "3007aa9d-5d63-4034-ad76-30d266f52ea7",
   "metadata": {},
   "outputs": [],
   "source": [
    "with open('results/fir/unsteered_gens.pkl', 'rb') as fp:\n",
    "    unsteered_gens = pickle.load(fp)"
   ]
  },
  {
   "cell_type": "code",
   "execution_count": 47,
   "id": "d745265f-648a-40d6-a736-1c44160ed6b2",
   "metadata": {},
   "outputs": [
    {
     "name": "stderr",
     "output_type": "stream",
     "text": [
      "100%|███████████████████████████████████████████| 40/40 [00:13<00:00,  2.92it/s]\n",
      "100%|███████████████████████████████████████████| 40/40 [00:13<00:00,  2.94it/s]\n",
      "100%|███████████████████████████████████████████| 40/40 [00:13<00:00,  3.01it/s]\n",
      "100%|███████████████████████████████████████████| 40/40 [00:13<00:00,  2.87it/s]\n",
      "100%|███████████████████████████████████████████| 40/40 [00:14<00:00,  2.84it/s]\n",
      "100%|███████████████████████████████████████████| 40/40 [00:14<00:00,  2.83it/s]\n"
     ]
    }
   ],
   "source": [
    "unsteered_probs = get_probs_for_gens(base_model, tokenizer, real_ctx, unsteered_gens)"
   ]
  },
  {
   "cell_type": "code",
   "execution_count": 57,
   "id": "d694602a-8753-4869-a5ac-d454c82e45ba",
   "metadata": {},
   "outputs": [
    {
     "data": {
      "text/plain": [
       "-1.3088337474920109"
      ]
     },
     "execution_count": 57,
     "metadata": {},
     "output_type": "execute_result"
    }
   ],
   "source": [
    "np.median(flatten([[np.mean(np.log2(x)) for x in y] for y in unsteered_probs]))"
   ]
  },
  {
   "cell_type": "markdown",
   "id": "e88bda4c-f577-4775-a8ad-a6358a65630b",
   "metadata": {},
   "source": [
    "### Incongruous generations"
   ]
  },
  {
   "cell_type": "code",
   "execution_count": 62,
   "id": "fb1791ea-eecb-4f16-8483-b33c26f97665",
   "metadata": {},
   "outputs": [
    {
     "name": "stderr",
     "output_type": "stream",
     "text": [
      "100%|███████████████████████████████████████████| 40/40 [00:14<00:00,  2.84it/s]\n",
      "100%|███████████████████████████████████████████| 40/40 [00:14<00:00,  2.81it/s]\n",
      "100%|███████████████████████████████████████████| 40/40 [00:14<00:00,  2.83it/s]\n",
      "100%|███████████████████████████████████████████| 40/40 [00:14<00:00,  2.75it/s]\n",
      "100%|███████████████████████████████████████████| 40/40 [00:14<00:00,  2.73it/s]\n",
      "100%|███████████████████████████████████████████| 40/40 [00:14<00:00,  2.77it/s]\n"
     ]
    }
   ],
   "source": [
    "occupation_to_idx = {'actor': 0, 'author': 1, 'athlete': 2, 'scientist': 3, 'politician': 4, 'musician': 5}\n",
    "\n",
    "incongruous_gens = [ [g for g in split] for split in real_gens.values() ]\n",
    "for i, split in enumerate(fake_gens):\n",
    "    for j, gen in enumerate(split):\n",
    "        old_occu = extract_occupation_from_prompt(gen)\n",
    "        new_occu = get_dataset.occupations[(occupation_to_idx[old_occu]+1)%len(get_dataset.occupations)]\n",
    "        gen = gen.replace(\n",
    "            f\"best known for being {get_indef_article(old_occu) + '**' + old_occu}\",\n",
    "            f\"best known for being {get_indef_article(new_occu) + '**' + new_occu}\",\n",
    "        )\n",
    "        incongruous_gens[i][j] = gen\n",
    "\n",
    "incongruous_probs = get_probs_for_gens(base_model, tokenizer, real_ctx, incongruous_gens)"
   ]
  },
  {
   "cell_type": "code",
   "execution_count": 94,
   "id": "e1020f9c-14ca-4fbc-9580-86564d595edb",
   "metadata": {},
   "outputs": [
    {
     "data": {
      "text/plain": [
       "-1.042595466742711"
      ]
     },
     "execution_count": 94,
     "metadata": {},
     "output_type": "execute_result"
    }
   ],
   "source": [
    "np.median(flatten([[np.mean(np.log2(x)) for x in y] for y in incongruous_probs]))"
   ]
  },
  {
   "cell_type": "markdown",
   "id": "34febbb4-d2ee-493a-9ac5-d07f046ed682",
   "metadata": {},
   "source": [
    "### Fictitious generations"
   ]
  },
  {
   "cell_type": "code",
   "execution_count": 23,
   "id": "e33a15b9-4e2b-4ba9-a412-11c5982d8e0f",
   "metadata": {},
   "outputs": [],
   "source": [
    "import random\n",
    "import time\n",
    "fictitious_prompts = []\n",
    "for i, cur_prompts in enumerate(real_gens.values()):\n",
    "    cur_fake_prompts = []\n",
    "    for fake_prompt in cur_prompts:\n",
    "        if fake_prompt in real_ctx: continue\n",
    "        fake_name = None\n",
    "        for fake_name_idx, fake_name_ in enumerate(get_dataset.entity_names[(i+1)%len(get_dataset.entity_names)]):\n",
    "            if fake_name_ in real_ctx or fake_name_ in \"\\n\".join(cur_fake_prompts): continue\n",
    "            fake_name_gen = real_gens[get_dataset.occupations[(i+1)%len(get_dataset.entity_names)]][fake_name_idx]\n",
    "            if get_gender(fake_name_gen) != get_gender(fake_prompt):\n",
    "                continue\n",
    "            fake_name = fake_name_\n",
    "        if fake_name is None: continue\n",
    "        fake_prompt = replace_name(fake_prompt, fake_name)\n",
    "        cur_fake_prompts.append(fake_prompt)\n",
    "    fictitious_prompts.append(cur_fake_prompts)"
   ]
  },
  {
   "cell_type": "code",
   "execution_count": 39,
   "id": "57b0b2da-ee1c-4fa9-963d-38714855d79b",
   "metadata": {},
   "outputs": [
    {
     "name": "stderr",
     "output_type": "stream",
     "text": [
      "  0%|                                                    | 0/40 [00:00<?, ?it/s]Starting from v4.46, the `logits` model output will have the same type as the model (except at train time, where it will always be FP32)\n",
      "100%|███████████████████████████████████████████| 40/40 [00:14<00:00,  2.81it/s]\n",
      "100%|███████████████████████████████████████████| 40/40 [00:13<00:00,  2.86it/s]\n",
      "100%|███████████████████████████████████████████| 40/40 [00:13<00:00,  2.88it/s]\n",
      "100%|███████████████████████████████████████████| 40/40 [00:14<00:00,  2.82it/s]\n",
      "100%|███████████████████████████████████████████| 40/40 [00:14<00:00,  2.75it/s]\n",
      "100%|███████████████████████████████████████████| 40/40 [00:14<00:00,  2.78it/s]\n"
     ]
    }
   ],
   "source": [
    "fictitious_probs = get_probs_for_gens(base_model, tokenizer, real_ctx, fictitious_prompts)"
   ]
  },
  {
   "cell_type": "code",
   "execution_count": 59,
   "id": "b2721818-de36-4684-aa49-4c9d6fbba6b3",
   "metadata": {},
   "outputs": [
    {
     "data": {
      "text/plain": [
       "-1.4880768542323508"
      ]
     },
     "execution_count": 59,
     "metadata": {},
     "output_type": "execute_result"
    }
   ],
   "source": [
    "np.median(flatten([[np.mean(np.log2(x)) for x in y] for y in fictitious_probs]))"
   ]
  },
  {
   "cell_type": "markdown",
   "id": "4db1c93f-28d4-4417-b9cc-d29410047981",
   "metadata": {},
   "source": [
    "### Get promotion/suppression steering probs"
   ]
  },
  {
   "cell_type": "markdown",
   "id": "89671f87-a8d8-4254-be6f-bce5474d0654",
   "metadata": {},
   "source": [
    "To get base model log probabilities for promotion and suppression steering, use the `base_model_probs.py` script. This allows you to parallelize the process of getting probabilities across multiple GPUs.\n",
    "\n",
    "The script takes the following command-line arguments:\n",
    "\n",
    "* `devices`: a comma-separated list of ints containing a list of GPU indices that the scripts will be using. E.g. `0,1,2,3` means that across all instances of the running scripts, GPUs 0, 1, 2, and 3 will be used.\n",
    "* `device_idx`: the GPU index that this current script instance will be using. Note that this is an index into the list provided by `devices`, so if `devices` is `0,2,4`, and `device_idx` is `1`, then the script will run on GPU 2.\n",
    "* `generations_path`: the path to a `.pkl` file containing the generations to be evaluated. (This is the same `.pkl` file output by the code from Section 3.1.)\n",
    "* `ctx_path`: the path to a `.pkl` file containing the context to be used for evaluation. For our purposes, this should be the `results/fir/real_ctx.pkl` file output in the \"Get contexts\" section.\n",
    "* `out_prefix` (optional): a prefix for where our output file will be saved. In particular, a script running with device index `device_idx` will output to `'{out_prefix}device_{device_idx}.pkl'`.\n",
    "* `layer_range` (optional): a comma-separated triple of ints `start,end,step` corresponding to a range of layers to evaluate.\n",
    "\n",
    "**Examples**:\n",
    "* To get base model log probabilities for suppression-steered generations saved to `results/fir/src_generations_all_layers.pkl` on GPUs 0, 2, and 4, only looking at layers 1,3,5,...,23, then run the following commands (in parallel):\n",
    "    * `python3 llm_evals.py 0,2,4 0 results/fir/src_generations_all_layers.pkl results/fir/real_ctx.pkl results/fir/real_ctx_logprob_evals/src_steering/ 1,25,2 &`\n",
    "    * `python3 llm_evals.py 0,2,4 1 results/fir/src_generations_all_layers.pkl results/fir/real_ctx.pkl results/fir/real_ctx_logprob_evals/src_steering/ 1,25,2 &`\n",
    "    * `python3 llm_evals.py 0,2,4 2 results/fir/src_generations_all_layers.pkl results/fir/real_ctx.pkl results/fir/real_ctx_logprob_evals/src_steering/ 1,25,2 &`"
   ]
  },
  {
   "cell_type": "markdown",
   "id": "3a959150-9a9f-467f-93e3-5bc54d0fa169",
   "metadata": {},
   "source": [
    "### Get CAA steering probs"
   ]
  },
  {
   "cell_type": "markdown",
   "id": "f13a8560-5e1b-4064-b5fc-3a2263cb7679",
   "metadata": {},
   "source": [
    "To get base model log probabilities for CAA steering, use the `base_model_probs_one_vec_per_layer.py` script; this script does the same thing as `base_model_probs.py` and has the same arguments, but is adapted to work with CAA steering (where we only obtain a single steering vector per layer)."
   ]
  },
  {
   "cell_type": "markdown",
   "id": "a022a3a7-bea7-45ff-93d0-1b0ce792fb6f",
   "metadata": {},
   "source": [
    "### Get reentrant steering probs"
   ]
  },
  {
   "cell_type": "markdown",
   "id": "13bc37b7-4e84-4266-9c1c-9bb253388824",
   "metadata": {},
   "source": [
    "For reentrant steering, we use the probabilities that we obtained on the real context in the section \"Layer 10 log-probs w.r.t. real and fictitious contexts\"."
   ]
  },
  {
   "cell_type": "markdown",
   "id": "d6c99547-1f34-424c-acc9-f504d28b3d5f",
   "metadata": {},
   "source": [
    "### Merge probabilities from all layers"
   ]
  },
  {
   "cell_type": "markdown",
   "id": "c3061084-94cf-4bd6-a243-6e668f6dc3d0",
   "metadata": {},
   "source": [
    "#### Suppression steering\n",
    "\n",
    "We assume that the suppression-steered generations from all layers are stored in `results/fir/src_generations_all_layers.pkl`. We also assume that four GPUs were used to compute base model probabilities in parallel, and that per-device results were saved under the path `results/fir/real_ctx_logprob_evals/src_steering/`. Finally, we assume that we only have results for layers in the range `range(1,25,2)`"
   ]
  },
  {
   "cell_type": "code",
   "execution_count": 8,
   "id": "ac2f8a9e-71fe-49c6-9e04-9cfe0cec711c",
   "metadata": {},
   "outputs": [],
   "source": [
    "generations_path = 'results/fir/src_generations_all_layers.pkl'\n",
    "num_devices = 4\n",
    "per_device_logprobs_prefix = 'results/fir/real_ctx_logprob_evals/src_steering/'\n",
    "layer_range = range(1,25,2)\n",
    "\n",
    "with open(generations_path, 'rb') as fp:\n",
    "    src_gens_all_layers = pickle.load(fp)\n",
    "num_training_splits = len(src_gens_all_layers[0]['generations'])\n",
    "num_vecs = len(src_gens_all_layers[0]['generations'][0])\n",
    "split_names = list(src_gens_all_layers[0]['generations'][0][0]['generations_dict'].keys())\n",
    "\n",
    "all_src_steering_results = []\n",
    "for i in range(num_devices):\n",
    "    with open(f'{per_device_logprobs_prefix}device_{i}.pkl', \"rb\") as fp:\n",
    "        all_src_steering_results.append(pickle.load(fp))\n",
    "\n",
    "# layer, training_split_idx, vec_idx, split\n",
    "all_src_steering_results_dict = {layer: [ [ {split_name: None for split_name in get_dataset.split_names} for vec_idx in range(num_vecs) ] for training_split_idx in range(num_training_splits) ] for layer in layer_range}\n",
    "\n",
    "for device_results in all_src_steering_results:\n",
    "    for cur_result in device_results['results']:\n",
    "        all_src_steering_results_dict[cur_result['layer']][cur_result['training_split_idx']][cur_result['vec_idx']][cur_result['split_name']] = cur_result['probs']\n",
    "\n",
    "layers = list(all_src_steering_results_dict.keys())\n",
    "all_src_logprobs_per_layer = { layer : [] for layer in layers }\n",
    "all_src_gens_per_layer = { layer : [] for layer in layers }\n",
    "for layer in layers:\n",
    "    for i1, x in enumerate(all_src_steering_results_dict[layer]):\n",
    "        for i2, y in enumerate(x):\n",
    "            for i3, z in enumerate(y.values()):\n",
    "                for i4, p in enumerate(z):\n",
    "                    all_src_logprobs_per_layer[layer].append(np.log2(p))\n",
    "                    all_src_gens_per_layer[layer].append(list(src_gens_all_layers[layer]['generations'][i1][i2]['generations_dict'].values())[i3][i4])"
   ]
  },
  {
   "cell_type": "markdown",
   "id": "19c3bd64-ef76-44c1-9367-099355dc4373",
   "metadata": {},
   "source": [
    "#### Promotion steering\n",
    "\n",
    "We assume that the promotion-steered generations from all layers are stored in `results/fir/dst_generations_all_layers.pkl`. We also assume that four GPUs were used to compute base model probabilities in parallel, and that per-device results were saved under the path `results/fir/real_ctx_logprob_evals/dst_steering/`. Finally, we assume that we only have results for layers in the range `range(1,25,2)`"
   ]
  },
  {
   "cell_type": "code",
   "execution_count": 72,
   "id": "ac41ad6e-2d4a-41ff-8129-7336fde431bf",
   "metadata": {},
   "outputs": [],
   "source": [
    "generations_path = 'results/fir/dst_generations_all_layers.pkl'\n",
    "num_devices = 4\n",
    "per_device_logprobs_prefix = 'results/fir/real_ctx_logprob_evals/dst_steering/'\n",
    "layer_range = range(1,25,2)\n",
    "\n",
    "with open(generations_path, 'rb') as fp:\n",
    "    dst_gens_all_layers = pickle.load(fp)\n",
    "num_training_splits = len(dst_gens_all_layers[0]['generations'])\n",
    "num_vecs = len(dst_gens_all_layers[0]['generations'][0])\n",
    "split_names = list(dst_gens_all_layers[0]['generations'][0][0]['generations_dict'].keys())\n",
    "\n",
    "all_dst_steering_results = []\n",
    "for i in range(num_devices):\n",
    "    with open(f'{per_device_logprobs_prefix}device_{i}.pkl', \"rb\") as fp:\n",
    "        all_dst_steering_results.append(pickle.load(fp))\n",
    "\n",
    "# layer, training_split_idx, vec_idx, split\n",
    "all_dst_steering_results_dict = {layer: [ [ {split_name: None for split_name in get_dataset.split_names} for vec_idx in range(num_vecs) ] for training_split_idx in range(num_training_splits) ] for layer in layer_range}\n",
    "\n",
    "for device_results in all_dst_steering_results:\n",
    "    for cur_result in device_results['results']:\n",
    "        all_dst_steering_results_dict[cur_result['layer']][cur_result['training_split_idx']][cur_result['vec_idx']][cur_result['split_name']] = cur_result['probs']\n",
    "\n",
    "layers = list(all_dst_steering_results_dict.keys())\n",
    "all_dst_logprobs_per_layer = { layer : [] for layer in layers }\n",
    "for layer in layers:\n",
    "    for x in all_dst_steering_results_dict[layer]:\n",
    "        for y in x:\n",
    "            for z in y.values():\n",
    "                for p in z:\n",
    "                    all_dst_logprobs_per_layer[layer].append(np.log2(p))"
   ]
  },
  {
   "cell_type": "markdown",
   "id": "221ee2f2-ec03-49ee-9b21-a6fdf6d99c40",
   "metadata": {},
   "source": [
    "#### CAA steering\n",
    "\n",
    "We assume that the CAA-steered generations from all layers are stored in `results/fir/caa_generations_all_layers.pkl`. We also assume that four GPUs were used to compute base model probabilities in parallel, and that per-device results were saved under the path `results/fir/real_ctx_logprob_evals/caa_steering/`. Finally, we assume that we only have results for layers in the range `range(1,25,2)`"
   ]
  },
  {
   "cell_type": "code",
   "execution_count": 71,
   "id": "9127d351-4f8c-432b-ab5a-247e3b37ada9",
   "metadata": {},
   "outputs": [],
   "source": [
    "generations_path = 'results/fir/caa_generations_all_layers.pkl'\n",
    "num_devices = 4\n",
    "per_device_logprobs_prefix = 'results/fir/real_ctx_logprob_evals/caa/'\n",
    "layer_range = range(1,25,2)\n",
    "\n",
    "with open(generations_path, 'rb') as fp:\n",
    "    caa_gens_all_layers = pickle.load(fp)\n",
    "\n",
    "all_caa_steering_results = []\n",
    "for i in range(num_devices):\n",
    "    with open(f'{per_device_logprobs_prefix}device_{i}.pkl', \"rb\") as fp:\n",
    "        all_caa_steering_results.append(pickle.load(fp))\n",
    "\n",
    "# layer, training_split_idx, vec_idx, split\n",
    "all_caa_steering_results_dict = {layer: {split_name: None for split_name in get_dataset.split_names} for layer in layer_range}\n",
    "\n",
    "for device_results in all_caa_steering_results:\n",
    "    for cur_result in device_results['results']:\n",
    "        all_caa_steering_results_dict[cur_result['layer']][cur_result['split_name']] = cur_result['probs']\n",
    "\n",
    "layers = list(all_caa_steering_results_dict.keys())\n",
    "all_caa_logprobs_per_layer = { layer : [] for layer in layers }\n",
    "for layer in layers:\n",
    "    for split in all_caa_steering_results_dict[layer].values():\n",
    "        for p in split:\n",
    "            all_caa_logprobs_per_layer[layer].append(np.log2(p))"
   ]
  },
  {
   "cell_type": "markdown",
   "id": "1ad7484d-140a-4b0d-9ce0-1eb710b0df81",
   "metadata": {},
   "source": [
    "### Plot and analyze (Fig. 5)"
   ]
  },
  {
   "cell_type": "code",
   "execution_count": 132,
   "id": "8ae37d18-d1fe-460f-99e3-a3c00c793f50",
   "metadata": {},
   "outputs": [
    {
     "data": {
      "image/png": "[encoded data removed]",
      "text/plain": [
       "<Figure size 400x300 with 1 Axes>"
      ]
     },
     "metadata": {},
     "output_type": "display_data"
    }
   ],
   "source": [
    "import numpy as np\n",
    "\n",
    "plt.rcParams['font.family'] = 'serif'\n",
    "plt.rcParams['lines.linewidth'] = 4\n",
    "plt.rcParams['lines.markersize'] = 15\n",
    "\n",
    "pslice = slice(0, 100)\n",
    "\n",
    "fig, ax = plt.subplots()\n",
    "\n",
    "ax.plot(all_src_logprobs_per_layer.keys(),\n",
    "    [ np.median(\n",
    "        [ -np.mean(y[pslice]) for y in x]\n",
    "    ) for x in all_src_logprobs_per_layer.values() ],\n",
    "    label=\"Suppression steering\", zorder=1, marker='.', alpha=0.7\n",
    ")\n",
    "\n",
    "ax.plot(all_dst_logprobs_per_layer.keys(),\n",
    "    [ np.median(\n",
    "        [ -np.mean(y[pslice]) for y in x]\n",
    "    ) for x in all_dst_logprobs_per_layer.values() ],\n",
    "    label=\"Promotion steering\", zorder=1, marker='.', alpha=0.7\n",
    ")\n",
    "\n",
    "ax.plot(all_caa_logprobs_per_layer.keys(),\n",
    "    [ np.median(\n",
    "        [ -np.mean(y[pslice]) for y in x]\n",
    "    ) for x in all_caa_logprobs_per_layer.values() ],\n",
    "    label=\"CAA\", marker='.', alpha=0.7\n",
    ")\n",
    "\n",
    "ax.axhline(np.median([-np.log2(x[pslice]).mean() for x in flatten(fictitious_probs)]), c='gray', linewidth=3, label=\"Fictitious completions\", zorder=-1, linestyle='dotted')\n",
    "ax.axhline(np.median([-np.log2(x[pslice]).mean() for x in flatten(unsteered_probs)]), c='gray', linewidth=3, linestyle=(0, (3, 1, 1, 1, 1, 1)), label=\"Unsteered completions\", zorder=-1)\n",
    "ax.axhline(1.3676, linewidth=3, label=\"Reentrant steering\", zorder=-1, color='C4')\n",
    "ax.axhline(np.median([-np.log2(x[pslice]).mean() for x in flatten(incongruous_probs)]), c='gray', linewidth=3, linestyle='dashed', label=\"Incongruous completions\", zorder=-1)\n",
    "ax.axhline(np.median([-np.log2(x[pslice]).mean() for x in flatten(real_probs)]), c='gray', linewidth=3, label=\"Real completions\", zorder=-1)\n",
    "\n",
    "fig.set_size_inches(4,3)\n",
    "\n",
    "plt.xlabel(\"Layer\", fontsize=13)\n",
    "plt.ylabel(\"Surprisal (bits)\", fontsize=12)\n",
    "fig.legend(loc='center left', handlelength=4, bbox_to_anchor=(1, 0.5))\n",
    "fig.tight_layout()\n",
    "plt.show()"
   ]
  },
  {
   "cell_type": "markdown",
   "id": "8ccd7b54-76e6-4810-9a42-f1f31a94a0bd",
   "metadata": {},
   "source": [
    "## Real vs. fictitious context logprobs"
   ]
  },
  {
   "cell_type": "code",
   "execution_count": 191,
   "id": "4f94352f-4911-42bd-8d62-695a86bfc6d6",
   "metadata": {},
   "outputs": [],
   "source": [
    "real_ctx_tokens = tokenizer(real_ctx, return_tensors='pt').input_ids.cpu()\n",
    "fake_ctx_tokens = tokenizer(fake_ctx, return_tensors='pt').input_ids.cpu()"
   ]
  },
  {
   "cell_type": "code",
   "execution_count": 194,
   "id": "44ab6add-76bc-449c-abf1-60062c64bcc3",
   "metadata": {},
   "outputs": [],
   "source": [
    "with torch.no_grad():\n",
    "    real_ctx_logits = base_model(tokenizer(real_ctx, return_tensors='pt').input_ids).logits\n",
    "    real_ctx_lgprobs = real_ctx_logits[0].softmax(dim=-1).detach().cpu().float().log2()\n",
    "    del real_ctx_logits\n",
    "    unoom()\n",
    "    fake_ctx_logits = base_model(tokenizer(fake_ctx, return_tensors='pt').input_ids).logits\n",
    "    fake_ctx_lgprobs = fake_ctx_logits[0].softmax(dim=-1).detach().cpu().float().log2()"
   ]
  },
  {
   "cell_type": "code",
   "execution_count": 197,
   "id": "61a3fa00-5c7a-4ddc-bc53-7d2e8278c071",
   "metadata": {},
   "outputs": [],
   "source": [
    "real_ctx_correct_lgprobs = torch.gather(real_ctx_lgprobs[:-1], 1, real_ctx_tokens[0, 1:].unsqueeze(1)).squeeze(1)\n",
    "fake_ctx_correct_lgprobs = torch.gather(fake_ctx_lgprobs[:-1], 1, fake_ctx_tokens[0, 1:].unsqueeze(1)).squeeze(1)"
   ]
  },
  {
   "cell_type": "code",
   "execution_count": 200,
   "id": "9e10c441-940a-4d18-ae10-a872d45502ce",
   "metadata": {},
   "outputs": [
    {
     "data": {
      "text/plain": [
       "(-1.0254971981048584, -1.301758885383606)"
      ]
     },
     "execution_count": 200,
     "metadata": {},
     "output_type": "execute_result"
    }
   ],
   "source": [
    "real_ctx_correct_lgprobs.mean().item(), fake_ctx_correct_lgprobs.mean().item()\n"
   ]
  },
  {
   "cell_type": "markdown",
   "id": "77724e99-2684-45c5-98f3-7c253635dc7d",
   "metadata": {},
   "source": [
    "This is where we get the numbers cited as \"information complexity\" towards the end of Section 3.3."
   ]
  },
  {
   "cell_type": "markdown",
   "id": "effe51cc-0768-4ffd-a48a-dee5b32e4b33",
   "metadata": {},
   "source": [
    "## Dot product classifiers"
   ]
  },
  {
   "cell_type": "markdown",
   "id": "6ef512e3-5ebe-492f-ab9f-3f26268f6b09",
   "metadata": {},
   "source": [
    "### Setup functions"
   ]
  },
  {
   "cell_type": "code",
   "execution_count": 234,
   "id": "2174336d-dc9e-42e8-ac43-0854945d0e29",
   "metadata": {},
   "outputs": [],
   "source": [
    "import tqdm\n",
    "\n",
    "@torch.no_grad()\n",
    "def get_dots_on_prompts(model, tokenizer, prompts, vector, layer, batch_size=40, token=None):\n",
    "    hook_point = f'blocks.{layer}.hook_resid_pre'\n",
    "    dots = []\n",
    "    for i in tqdm.tqdm(range(0, len(prompts), batch_size)):\n",
    "        cur_prompts = prompts[i:i+batch_size]\n",
    "\n",
    "        outlist = []\n",
    "        activs_hook = (layer, steering_opt.make_activs_hook_hf(outlist))\n",
    "        token_info = tokenizer(cur_prompts, return_tensors='pt', padding=True, padding_side='right')\n",
    "        lengths = (token_info.input_ids != 0).sum(dim=-1).detach().cpu().numpy()\n",
    "        with steering_opt.hf_hooks_contextmanager(model, [activs_hook]):\n",
    "            model(**token_info)\n",
    "        activs_batch = outlist[0].float()\n",
    "        for j, activs in enumerate(activs_batch):\n",
    "            activs = activs[:lengths[j]]\n",
    "            if token is not None:\n",
    "                if isinstance(token, int):\n",
    "                    activs = activs[token][None]\n",
    "                elif isinstance(token, slice):\n",
    "                    activs = activs[token]\n",
    "            cur_dots = torch.einsum('td, d -> t', activs.to(device).float(), vector.to(device)).mean().detach().cpu().numpy()\n",
    "            dots.append(cur_dots)\n",
    "    return np.array(dots)"
   ]
  },
  {
   "cell_type": "code",
   "execution_count": 101,
   "id": "8d7e71af-e5b9-46bf-a8c2-8675b9c9a26c",
   "metadata": {},
   "outputs": [],
   "source": [
    "layers = [1, 3, 5, 7, 9, 11, 13, 15, 17, 19, 21, 23]"
   ]
  },
  {
   "cell_type": "markdown",
   "id": "20a476ba-5372-4697-8b72-b1c132757d6b",
   "metadata": {},
   "source": [
    "### CAA vecs"
   ]
  },
  {
   "cell_type": "code",
   "execution_count": 104,
   "id": "6d7d08d9-8f79-42bc-9c74-090c0a1695bc",
   "metadata": {
    "scrolled": true
   },
   "outputs": [
    {
     "name": "stderr",
     "output_type": "stream",
     "text": [
      "100%|███████████████████████████████████████████| 13/13 [00:02<00:00,  5.56it/s]\n",
      "100%|███████████████████████████████████████████| 13/13 [00:02<00:00,  5.76it/s]\n",
      "100%|███████████████████████████████████████████| 13/13 [00:02<00:00,  5.63it/s]\n",
      "100%|███████████████████████████████████████████| 13/13 [00:02<00:00,  5.66it/s]\n",
      "100%|███████████████████████████████████████████| 13/13 [00:02<00:00,  5.59it/s]\n",
      "100%|███████████████████████████████████████████| 13/13 [00:02<00:00,  5.67it/s]\n",
      "100%|███████████████████████████████████████████| 13/13 [00:02<00:00,  5.60it/s]\n",
      "100%|███████████████████████████████████████████| 13/13 [00:02<00:00,  5.61it/s]\n",
      "100%|███████████████████████████████████████████| 13/13 [00:02<00:00,  5.61it/s]\n",
      "100%|███████████████████████████████████████████| 13/13 [00:02<00:00,  5.72it/s]\n",
      "100%|███████████████████████████████████████████| 13/13 [00:02<00:00,  5.61it/s]\n",
      "100%|███████████████████████████████████████████| 13/13 [00:02<00:00,  5.66it/s]\n",
      "100%|███████████████████████████████████████████| 13/13 [00:02<00:00,  5.53it/s]\n",
      "100%|███████████████████████████████████████████| 13/13 [00:02<00:00,  5.58it/s]\n",
      "100%|███████████████████████████████████████████| 13/13 [00:02<00:00,  5.53it/s]\n",
      "100%|███████████████████████████████████████████| 13/13 [00:02<00:00,  5.56it/s]\n",
      "100%|███████████████████████████████████████████| 13/13 [00:02<00:00,  5.55it/s]\n",
      "100%|███████████████████████████████████████████| 13/13 [00:02<00:00,  5.56it/s]\n",
      "100%|███████████████████████████████████████████| 13/13 [00:02<00:00,  5.53it/s]\n",
      "100%|███████████████████████████████████████████| 13/13 [00:02<00:00,  5.56it/s]\n",
      "100%|███████████████████████████████████████████| 13/13 [00:02<00:00,  5.43it/s]\n",
      "100%|███████████████████████████████████████████| 13/13 [00:02<00:00,  5.50it/s]\n",
      "100%|███████████████████████████████████████████| 13/13 [00:02<00:00,  5.47it/s]\n",
      "100%|███████████████████████████████████████████| 13/13 [00:02<00:00,  5.58it/s]\n"
     ]
    }
   ],
   "source": [
    "# we assume that all CAA vectors were saved to results/fir/caa_vecs_all_layers.pkl\n",
    "with open('results/fir/caa_vecs_all_layers.pkl', 'rb') as fp:\n",
    "    caa_vecs = pickle.load(fp)\n",
    "    \n",
    "caa_dots = { layer: { 'real': [], 'fake': [] } for layer in layers }\n",
    "\n",
    "for layer in layers:\n",
    "    vec = torch.from_numpy(caa_vecs[layer]).to(device)\n",
    "    caa_dots[layer]['real'] = get_dots_on_prompts(model, tokenizer, get_dataset.real_prompts, vec, layer)\n",
    "    caa_dots[layer]['fake'] = get_dots_on_prompts(model, tokenizer, get_dataset.fake_prompts, vec, layer)"
   ]
  },
  {
   "cell_type": "code",
   "execution_count": 108,
   "id": "7690596a-01d9-4f84-884b-781a55c303c1",
   "metadata": {},
   "outputs": [],
   "source": [
    "with open('results/fir/caa_dots.pkl', 'wb') as fp:\n",
    "    pickle.dump(caa_dots, fp)"
   ]
  },
  {
   "cell_type": "markdown",
   "id": "7f1bb3ac-9a74-458c-9a79-3c8faa18e431",
   "metadata": {},
   "source": [
    "### Src vecs"
   ]
  },
  {
   "cell_type": "code",
   "execution_count": 107,
   "id": "357ab54b-f091-4f79-a2b6-f822a5a60082",
   "metadata": {
    "scrolled": true
   },
   "outputs": [
    {
     "name": "stderr",
     "output_type": "stream",
     "text": [
      "100%|███████████████████████████████████████████| 13/13 [00:02<00:00,  5.47it/s]\n",
      "100%|███████████████████████████████████████████| 13/13 [00:02<00:00,  5.63it/s]\n",
      "100%|███████████████████████████████████████████| 13/13 [00:02<00:00,  5.53it/s]\n",
      "100%|███████████████████████████████████████████| 13/13 [00:02<00:00,  5.60it/s]\n",
      "100%|███████████████████████████████████████████| 13/13 [00:02<00:00,  5.55it/s]\n",
      "100%|███████████████████████████████████████████| 13/13 [00:02<00:00,  5.60it/s]\n",
      "100%|███████████████████████████████████████████| 13/13 [00:02<00:00,  5.50it/s]\n",
      "100%|███████████████████████████████████████████| 13/13 [00:02<00:00,  5.56it/s]\n",
      "100%|███████████████████████████████████████████| 13/13 [00:02<00:00,  5.50it/s]\n",
      "100%|███████████████████████████████████████████| 13/13 [00:02<00:00,  5.60it/s]\n",
      "100%|███████████████████████████████████████████| 13/13 [00:02<00:00,  5.49it/s]\n",
      "100%|███████████████████████████████████████████| 13/13 [00:02<00:00,  5.60it/s]\n",
      "100%|███████████████████████████████████████████| 13/13 [00:02<00:00,  5.53it/s]\n",
      "100%|███████████████████████████████████████████| 13/13 [00:02<00:00,  5.58it/s]\n",
      "100%|███████████████████████████████████████████| 13/13 [00:02<00:00,  5.45it/s]\n",
      "100%|███████████████████████████████████████████| 13/13 [00:02<00:00,  5.57it/s]\n",
      "100%|███████████████████████████████████████████| 13/13 [00:02<00:00,  5.50it/s]\n",
      "100%|███████████████████████████████████████████| 13/13 [00:02<00:00,  5.57it/s]\n",
      "100%|███████████████████████████████████████████| 13/13 [00:02<00:00,  5.39it/s]\n",
      "100%|███████████████████████████████████████████| 13/13 [00:02<00:00,  5.52it/s]\n",
      "100%|███████████████████████████████████████████| 13/13 [00:02<00:00,  5.42it/s]\n",
      "100%|███████████████████████████████████████████| 13/13 [00:02<00:00,  5.51it/s]\n",
      "100%|███████████████████████████████████████████| 13/13 [00:02<00:00,  5.47it/s]\n",
      "100%|███████████████████████████████████████████| 13/13 [00:02<00:00,  5.53it/s]\n",
      "100%|███████████████████████████████████████████| 13/13 [00:02<00:00,  5.45it/s]\n",
      "100%|███████████████████████████████████████████| 13/13 [00:02<00:00,  5.49it/s]\n",
      "100%|███████████████████████████████████████████| 13/13 [00:02<00:00,  5.45it/s]\n",
      "100%|███████████████████████████████████████████| 13/13 [00:02<00:00,  5.52it/s]\n",
      "100%|███████████████████████████████████████████| 13/13 [00:02<00:00,  5.37it/s]\n",
      "100%|███████████████████████████████████████████| 13/13 [00:02<00:00,  5.48it/s]\n",
      "100%|███████████████████████████████████████████| 13/13 [00:02<00:00,  5.46it/s]\n",
      "100%|███████████████████████████████████████████| 13/13 [00:02<00:00,  5.55it/s]\n",
      "100%|███████████████████████████████████████████| 13/13 [00:02<00:00,  5.45it/s]\n",
      "100%|███████████████████████████████████████████| 13/13 [00:02<00:00,  5.44it/s]\n",
      "100%|███████████████████████████████████████████| 13/13 [00:02<00:00,  5.42it/s]\n",
      "100%|███████████████████████████████████████████| 13/13 [00:02<00:00,  5.47it/s]\n",
      "100%|███████████████████████████████████████████| 13/13 [00:02<00:00,  5.50it/s]\n",
      "100%|███████████████████████████████████████████| 13/13 [00:02<00:00,  5.47it/s]\n",
      "100%|███████████████████████████████████████████| 13/13 [00:02<00:00,  5.47it/s]\n",
      "100%|███████████████████████████████████████████| 13/13 [00:02<00:00,  5.49it/s]\n",
      "100%|███████████████████████████████████████████| 13/13 [00:02<00:00,  5.42it/s]\n",
      "100%|███████████████████████████████████████████| 13/13 [00:02<00:00,  5.44it/s]\n",
      "100%|███████████████████████████████████████████| 13/13 [00:02<00:00,  5.39it/s]\n",
      "100%|███████████████████████████████████████████| 13/13 [00:02<00:00,  5.52it/s]\n",
      "100%|███████████████████████████████████████████| 13/13 [00:02<00:00,  5.40it/s]\n",
      "100%|███████████████████████████████████████████| 13/13 [00:02<00:00,  5.46it/s]\n",
      "100%|███████████████████████████████████████████| 13/13 [00:02<00:00,  5.44it/s]\n",
      "100%|███████████████████████████████████████████| 13/13 [00:02<00:00,  5.55it/s]\n",
      "100%|███████████████████████████████████████████| 13/13 [00:02<00:00,  5.43it/s]\n",
      "100%|███████████████████████████████████████████| 13/13 [00:02<00:00,  5.46it/s]\n",
      "100%|███████████████████████████████████████████| 13/13 [00:02<00:00,  5.42it/s]\n",
      "100%|███████████████████████████████████████████| 13/13 [00:02<00:00,  5.44it/s]\n",
      "100%|███████████████████████████████████████████| 13/13 [00:02<00:00,  5.41it/s]\n",
      "100%|███████████████████████████████████████████| 13/13 [00:02<00:00,  5.44it/s]\n",
      "100%|███████████████████████████████████████████| 13/13 [00:02<00:00,  5.41it/s]\n",
      "100%|███████████████████████████████████████████| 13/13 [00:02<00:00,  5.48it/s]\n",
      "100%|███████████████████████████████████████████| 13/13 [00:02<00:00,  5.45it/s]\n",
      "100%|███████████████████████████████████████████| 13/13 [00:02<00:00,  5.46it/s]\n",
      "100%|███████████████████████████████████████████| 13/13 [00:02<00:00,  5.37it/s]\n",
      "100%|███████████████████████████████████████████| 13/13 [00:02<00:00,  5.47it/s]\n",
      "100%|███████████████████████████████████████████| 13/13 [00:02<00:00,  5.42it/s]\n",
      "100%|███████████████████████████████████████████| 13/13 [00:02<00:00,  5.46it/s]\n",
      "100%|███████████████████████████████████████████| 13/13 [00:02<00:00,  5.40it/s]\n",
      "100%|███████████████████████████████████████████| 13/13 [00:02<00:00,  5.49it/s]\n",
      "100%|███████████████████████████████████████████| 13/13 [00:02<00:00,  5.46it/s]\n",
      "100%|███████████████████████████████████████████| 13/13 [00:02<00:00,  5.49it/s]\n",
      "100%|███████████████████████████████████████████| 13/13 [00:02<00:00,  5.44it/s]\n",
      "100%|███████████████████████████████████████████| 13/13 [00:02<00:00,  5.51it/s]\n",
      "100%|███████████████████████████████████████████| 13/13 [00:02<00:00,  5.40it/s]\n",
      "100%|███████████████████████████████████████████| 13/13 [00:02<00:00,  5.49it/s]\n",
      "100%|███████████████████████████████████████████| 13/13 [00:02<00:00,  5.36it/s]\n",
      "100%|███████████████████████████████████████████| 13/13 [00:02<00:00,  5.50it/s]\n",
      "100%|███████████████████████████████████████████| 13/13 [00:02<00:00,  5.46it/s]\n",
      "100%|███████████████████████████████████████████| 13/13 [00:02<00:00,  5.47it/s]\n",
      "100%|███████████████████████████████████████████| 13/13 [00:02<00:00,  5.39it/s]\n",
      "100%|███████████████████████████████████████████| 13/13 [00:02<00:00,  5.45it/s]\n",
      "100%|███████████████████████████████████████████| 13/13 [00:02<00:00,  5.45it/s]\n",
      "100%|███████████████████████████████████████████| 13/13 [00:02<00:00,  5.50it/s]\n",
      "100%|███████████████████████████████████████████| 13/13 [00:02<00:00,  5.48it/s]\n",
      "100%|███████████████████████████████████████████| 13/13 [00:02<00:00,  5.46it/s]\n",
      "100%|███████████████████████████████████████████| 13/13 [00:02<00:00,  5.44it/s]\n",
      "100%|███████████████████████████████████████████| 13/13 [00:02<00:00,  5.56it/s]\n",
      "100%|███████████████████████████████████████████| 13/13 [00:02<00:00,  5.43it/s]\n",
      "100%|███████████████████████████████████████████| 13/13 [00:02<00:00,  5.48it/s]\n",
      "100%|███████████████████████████████████████████| 13/13 [00:02<00:00,  5.43it/s]\n",
      "100%|███████████████████████████████████████████| 13/13 [00:02<00:00,  5.46it/s]\n",
      "100%|███████████████████████████████████████████| 13/13 [00:02<00:00,  5.40it/s]\n",
      "100%|███████████████████████████████████████████| 13/13 [00:02<00:00,  5.47it/s]\n",
      "100%|███████████████████████████████████████████| 13/13 [00:02<00:00,  5.41it/s]\n",
      "100%|███████████████████████████████████████████| 13/13 [00:02<00:00,  5.51it/s]\n",
      "100%|███████████████████████████████████████████| 13/13 [00:02<00:00,  5.42it/s]\n",
      "100%|███████████████████████████████████████████| 13/13 [00:02<00:00,  5.49it/s]\n",
      "100%|███████████████████████████████████████████| 13/13 [00:02<00:00,  5.37it/s]\n",
      "100%|███████████████████████████████████████████| 13/13 [00:02<00:00,  5.35it/s]\n",
      "100%|███████████████████████████████████████████| 13/13 [00:02<00:00,  5.38it/s]\n",
      "100%|███████████████████████████████████████████| 13/13 [00:02<00:00,  5.47it/s]\n",
      "100%|███████████████████████████████████████████| 13/13 [00:02<00:00,  5.43it/s]\n",
      "100%|███████████████████████████████████████████| 13/13 [00:02<00:00,  5.47it/s]\n",
      "100%|███████████████████████████████████████████| 13/13 [00:02<00:00,  5.44it/s]\n",
      "100%|███████████████████████████████████████████| 13/13 [00:02<00:00,  5.47it/s]\n",
      "100%|███████████████████████████████████████████| 13/13 [00:02<00:00,  5.45it/s]\n",
      "100%|███████████████████████████████████████████| 13/13 [00:02<00:00,  5.50it/s]\n",
      "100%|███████████████████████████████████████████| 13/13 [00:02<00:00,  5.39it/s]\n",
      "100%|███████████████████████████████████████████| 13/13 [00:02<00:00,  5.51it/s]\n",
      "100%|███████████████████████████████████████████| 13/13 [00:02<00:00,  5.44it/s]\n",
      "100%|███████████████████████████████████████████| 13/13 [00:02<00:00,  5.49it/s]\n",
      "100%|███████████████████████████████████████████| 13/13 [00:02<00:00,  5.39it/s]\n",
      "100%|███████████████████████████████████████████| 13/13 [00:02<00:00,  5.55it/s]\n",
      "100%|███████████████████████████████████████████| 13/13 [00:02<00:00,  5.43it/s]\n",
      "100%|███████████████████████████████████████████| 13/13 [00:02<00:00,  5.51it/s]\n",
      "100%|███████████████████████████████████████████| 13/13 [00:02<00:00,  5.46it/s]\n",
      "100%|███████████████████████████████████████████| 13/13 [00:02<00:00,  5.55it/s]\n",
      "100%|███████████████████████████████████████████| 13/13 [00:02<00:00,  5.42it/s]\n",
      "100%|███████████████████████████████████████████| 13/13 [00:02<00:00,  5.45it/s]\n",
      "100%|███████████████████████████████████████████| 13/13 [00:02<00:00,  5.43it/s]\n",
      "100%|███████████████████████████████████████████| 13/13 [00:02<00:00,  5.52it/s]\n",
      "100%|███████████████████████████████████████████| 13/13 [00:02<00:00,  5.47it/s]\n",
      "100%|███████████████████████████████████████████| 13/13 [00:02<00:00,  5.45it/s]\n",
      "100%|███████████████████████████████████████████| 13/13 [00:02<00:00,  5.51it/s]\n",
      "100%|███████████████████████████████████████████| 13/13 [00:02<00:00,  5.53it/s]\n",
      "100%|███████████████████████████████████████████| 13/13 [00:02<00:00,  5.35it/s]\n",
      "100%|███████████████████████████████████████████| 13/13 [00:02<00:00,  5.49it/s]\n",
      "100%|███████████████████████████████████████████| 13/13 [00:02<00:00,  5.42it/s]\n",
      "100%|███████████████████████████████████████████| 13/13 [00:02<00:00,  5.47it/s]\n",
      "100%|███████████████████████████████████████████| 13/13 [00:02<00:00,  5.42it/s]\n",
      "100%|███████████████████████████████████████████| 13/13 [00:02<00:00,  5.44it/s]\n",
      "100%|███████████████████████████████████████████| 13/13 [00:02<00:00,  5.38it/s]\n",
      "100%|███████████████████████████████████████████| 13/13 [00:02<00:00,  5.41it/s]\n",
      "100%|███████████████████████████████████████████| 13/13 [00:02<00:00,  5.32it/s]\n",
      "100%|███████████████████████████████████████████| 13/13 [00:02<00:00,  5.48it/s]\n",
      "100%|███████████████████████████████████████████| 13/13 [00:02<00:00,  5.37it/s]\n",
      "100%|███████████████████████████████████████████| 13/13 [00:02<00:00,  5.41it/s]\n",
      "100%|███████████████████████████████████████████| 13/13 [00:02<00:00,  5.46it/s]\n",
      "100%|███████████████████████████████████████████| 13/13 [00:02<00:00,  5.48it/s]\n",
      "100%|███████████████████████████████████████████| 13/13 [00:02<00:00,  5.45it/s]\n",
      "100%|███████████████████████████████████████████| 13/13 [00:02<00:00,  5.50it/s]\n",
      "100%|███████████████████████████████████████████| 13/13 [00:02<00:00,  5.44it/s]\n",
      "100%|███████████████████████████████████████████| 13/13 [00:02<00:00,  5.46it/s]\n",
      "100%|███████████████████████████████████████████| 13/13 [00:02<00:00,  5.48it/s]\n",
      "100%|███████████████████████████████████████████| 13/13 [00:02<00:00,  5.48it/s]\n",
      "100%|███████████████████████████████████████████| 13/13 [00:02<00:00,  5.45it/s]\n",
      "100%|███████████████████████████████████████████| 13/13 [00:02<00:00,  5.50it/s]\n",
      "100%|███████████████████████████████████████████| 13/13 [00:02<00:00,  5.42it/s]\n",
      "100%|███████████████████████████████████████████| 13/13 [00:02<00:00,  5.51it/s]\n"
     ]
    }
   ],
   "source": [
    "with open('results/fir/src_generations_all_layers.pkl', 'rb') as fp:\n",
    "    src_gens = pickle.load(fp)\n",
    "\n",
    "src_vecs = { layer:\n",
    "    [torch.from_numpy(src_gens[layer]['generations'][i][0]['vector']).cuda() for i in range(len(src_gens[layer]['generations']))]\n",
    "for layer in layers }\n",
    "\n",
    "src_dots = { layer: [ { 'real': [], 'fake': [] } for vec_id in range(len(src_vecs[layer])) ] for layer in layers }\n",
    "\n",
    "for layer in layers:\n",
    "    for i, vec in enumerate(src_vecs[layer]):\n",
    "        src_dots[layer][i]['real'] = get_dots_on_prompts(model, tokenizer, get_dataset.real_prompts, vec, layer)\n",
    "        src_dots[layer][i]['fake'] = get_dots_on_prompts(model, tokenizer, get_dataset.fake_prompts, vec, layer)"
   ]
  },
  {
   "cell_type": "code",
   "execution_count": 109,
   "id": "4ce0e2c0-658d-4d99-af7a-04f3b3a6dcbb",
   "metadata": {},
   "outputs": [],
   "source": [
    "with open('results/fir/src_dots.pkl', 'wb') as fp:\n",
    "    pickle.dump(src_dots, fp)"
   ]
  },
  {
   "cell_type": "markdown",
   "id": "88cbecde-c162-44af-a6de-2bab61ce3545",
   "metadata": {},
   "source": [
    "### Dst vecs"
   ]
  },
  {
   "cell_type": "code",
   "execution_count": 110,
   "id": "2d06bea1-6772-430c-a531-ba7dad2af37a",
   "metadata": {
    "scrolled": true
   },
   "outputs": [
    {
     "name": "stderr",
     "output_type": "stream",
     "text": [
      "100%|███████████████████████████████████████████| 13/13 [00:02<00:00,  5.54it/s]\n",
      "100%|███████████████████████████████████████████| 13/13 [00:02<00:00,  5.68it/s]\n",
      "100%|███████████████████████████████████████████| 13/13 [00:02<00:00,  5.64it/s]\n",
      "100%|███████████████████████████████████████████| 13/13 [00:02<00:00,  5.67it/s]\n",
      "100%|███████████████████████████████████████████| 13/13 [00:02<00:00,  5.61it/s]\n",
      "100%|███████████████████████████████████████████| 13/13 [00:02<00:00,  5.69it/s]\n",
      "100%|███████████████████████████████████████████| 13/13 [00:02<00:00,  5.58it/s]\n",
      "100%|███████████████████████████████████████████| 13/13 [00:02<00:00,  5.63it/s]\n",
      "100%|███████████████████████████████████████████| 13/13 [00:02<00:00,  5.62it/s]\n",
      "100%|███████████████████████████████████████████| 13/13 [00:02<00:00,  5.57it/s]\n",
      "100%|███████████████████████████████████████████| 13/13 [00:02<00:00,  5.48it/s]\n",
      "100%|███████████████████████████████████████████| 13/13 [00:02<00:00,  5.63it/s]\n",
      "100%|███████████████████████████████████████████| 13/13 [00:02<00:00,  5.60it/s]\n",
      "100%|███████████████████████████████████████████| 13/13 [00:02<00:00,  5.59it/s]\n",
      "100%|███████████████████████████████████████████| 13/13 [00:02<00:00,  5.51it/s]\n",
      "100%|███████████████████████████████████████████| 13/13 [00:02<00:00,  5.50it/s]\n",
      "100%|███████████████████████████████████████████| 13/13 [00:02<00:00,  5.52it/s]\n",
      "100%|███████████████████████████████████████████| 13/13 [00:02<00:00,  5.54it/s]\n",
      "100%|███████████████████████████████████████████| 13/13 [00:02<00:00,  5.53it/s]\n",
      "100%|███████████████████████████████████████████| 13/13 [00:02<00:00,  5.52it/s]\n",
      "100%|███████████████████████████████████████████| 13/13 [00:02<00:00,  5.45it/s]\n",
      "100%|███████████████████████████████████████████| 13/13 [00:02<00:00,  5.56it/s]\n",
      "100%|███████████████████████████████████████████| 13/13 [00:02<00:00,  5.46it/s]\n",
      "100%|███████████████████████████████████████████| 13/13 [00:02<00:00,  5.55it/s]\n",
      "100%|███████████████████████████████████████████| 13/13 [00:02<00:00,  5.45it/s]\n",
      "100%|███████████████████████████████████████████| 13/13 [00:02<00:00,  5.52it/s]\n",
      "100%|███████████████████████████████████████████| 13/13 [00:02<00:00,  5.44it/s]\n",
      "100%|███████████████████████████████████████████| 13/13 [00:02<00:00,  5.57it/s]\n",
      "100%|███████████████████████████████████████████| 13/13 [00:02<00:00,  5.42it/s]\n",
      "100%|███████████████████████████████████████████| 13/13 [00:02<00:00,  5.56it/s]\n",
      "100%|███████████████████████████████████████████| 13/13 [00:02<00:00,  5.47it/s]\n",
      "100%|███████████████████████████████████████████| 13/13 [00:02<00:00,  5.57it/s]\n",
      "100%|███████████████████████████████████████████| 13/13 [00:02<00:00,  5.38it/s]\n",
      "100%|███████████████████████████████████████████| 13/13 [00:02<00:00,  5.51it/s]\n",
      "100%|███████████████████████████████████████████| 13/13 [00:02<00:00,  5.46it/s]\n",
      "100%|███████████████████████████████████████████| 13/13 [00:02<00:00,  5.54it/s]\n",
      "100%|███████████████████████████████████████████| 13/13 [00:02<00:00,  5.46it/s]\n",
      "100%|███████████████████████████████████████████| 13/13 [00:02<00:00,  5.51it/s]\n",
      "100%|███████████████████████████████████████████| 13/13 [00:02<00:00,  5.49it/s]\n",
      "100%|███████████████████████████████████████████| 13/13 [00:02<00:00,  5.49it/s]\n",
      "100%|███████████████████████████████████████████| 13/13 [00:02<00:00,  5.51it/s]\n",
      "100%|███████████████████████████████████████████| 13/13 [00:02<00:00,  5.52it/s]\n",
      "100%|███████████████████████████████████████████| 13/13 [00:02<00:00,  5.45it/s]\n",
      "100%|███████████████████████████████████████████| 13/13 [00:02<00:00,  5.57it/s]\n",
      "100%|███████████████████████████████████████████| 13/13 [00:02<00:00,  5.48it/s]\n",
      "100%|███████████████████████████████████████████| 13/13 [00:02<00:00,  5.49it/s]\n",
      "100%|███████████████████████████████████████████| 13/13 [00:02<00:00,  5.48it/s]\n",
      "100%|███████████████████████████████████████████| 13/13 [00:02<00:00,  5.52it/s]\n",
      "100%|███████████████████████████████████████████| 13/13 [00:02<00:00,  5.44it/s]\n",
      "100%|███████████████████████████████████████████| 13/13 [00:02<00:00,  5.47it/s]\n",
      "100%|███████████████████████████████████████████| 13/13 [00:02<00:00,  5.41it/s]\n",
      "100%|███████████████████████████████████████████| 13/13 [00:02<00:00,  5.49it/s]\n",
      "100%|███████████████████████████████████████████| 13/13 [00:02<00:00,  5.47it/s]\n",
      "100%|███████████████████████████████████████████| 13/13 [00:02<00:00,  5.51it/s]\n",
      "100%|███████████████████████████████████████████| 13/13 [00:02<00:00,  5.42it/s]\n",
      "100%|███████████████████████████████████████████| 13/13 [00:02<00:00,  5.52it/s]\n",
      "100%|███████████████████████████████████████████| 13/13 [00:02<00:00,  5.49it/s]\n",
      "100%|███████████████████████████████████████████| 13/13 [00:02<00:00,  5.59it/s]\n",
      "100%|███████████████████████████████████████████| 13/13 [00:02<00:00,  5.44it/s]\n",
      "100%|███████████████████████████████████████████| 13/13 [00:02<00:00,  5.55it/s]\n",
      "100%|███████████████████████████████████████████| 13/13 [00:02<00:00,  5.46it/s]\n",
      "100%|███████████████████████████████████████████| 13/13 [00:02<00:00,  5.53it/s]\n",
      "100%|███████████████████████████████████████████| 13/13 [00:02<00:00,  5.43it/s]\n",
      "100%|███████████████████████████████████████████| 13/13 [00:02<00:00,  5.47it/s]\n",
      "100%|███████████████████████████████████████████| 13/13 [00:02<00:00,  5.49it/s]\n",
      "100%|███████████████████████████████████████████| 13/13 [00:02<00:00,  5.48it/s]\n",
      "100%|███████████████████████████████████████████| 13/13 [00:02<00:00,  5.43it/s]\n",
      "100%|███████████████████████████████████████████| 13/13 [00:02<00:00,  5.48it/s]\n",
      "100%|███████████████████████████████████████████| 13/13 [00:02<00:00,  5.42it/s]\n",
      "100%|███████████████████████████████████████████| 13/13 [00:02<00:00,  5.46it/s]\n",
      "100%|███████████████████████████████████████████| 13/13 [00:02<00:00,  5.40it/s]\n",
      "100%|███████████████████████████████████████████| 13/13 [00:02<00:00,  5.54it/s]\n",
      "100%|███████████████████████████████████████████| 13/13 [00:02<00:00,  5.44it/s]\n",
      "100%|███████████████████████████████████████████| 13/13 [00:02<00:00,  5.51it/s]\n",
      "100%|███████████████████████████████████████████| 13/13 [00:02<00:00,  5.45it/s]\n",
      "100%|███████████████████████████████████████████| 13/13 [00:02<00:00,  5.50it/s]\n",
      "100%|███████████████████████████████████████████| 13/13 [00:02<00:00,  5.46it/s]\n",
      "100%|███████████████████████████████████████████| 13/13 [00:02<00:00,  5.45it/s]\n",
      "100%|███████████████████████████████████████████| 13/13 [00:02<00:00,  5.45it/s]\n",
      "100%|███████████████████████████████████████████| 13/13 [00:02<00:00,  5.46it/s]\n",
      "100%|███████████████████████████████████████████| 13/13 [00:02<00:00,  5.36it/s]\n",
      "100%|███████████████████████████████████████████| 13/13 [00:02<00:00,  5.51it/s]\n",
      "100%|███████████████████████████████████████████| 13/13 [00:02<00:00,  5.41it/s]\n",
      "100%|███████████████████████████████████████████| 13/13 [00:02<00:00,  5.47it/s]\n",
      "100%|███████████████████████████████████████████| 13/13 [00:02<00:00,  5.45it/s]\n",
      "100%|███████████████████████████████████████████| 13/13 [00:02<00:00,  5.50it/s]\n",
      "100%|███████████████████████████████████████████| 13/13 [00:02<00:00,  5.43it/s]\n",
      "100%|███████████████████████████████████████████| 13/13 [00:02<00:00,  5.52it/s]\n",
      "100%|███████████████████████████████████████████| 13/13 [00:02<00:00,  5.45it/s]\n",
      "100%|███████████████████████████████████████████| 13/13 [00:02<00:00,  5.57it/s]\n",
      "100%|███████████████████████████████████████████| 13/13 [00:02<00:00,  5.44it/s]\n",
      "100%|███████████████████████████████████████████| 13/13 [00:02<00:00,  5.46it/s]\n",
      "100%|███████████████████████████████████████████| 13/13 [00:02<00:00,  5.37it/s]\n",
      "100%|███████████████████████████████████████████| 13/13 [00:02<00:00,  5.41it/s]\n",
      "100%|███████████████████████████████████████████| 13/13 [00:02<00:00,  5.45it/s]\n",
      "100%|███████████████████████████████████████████| 13/13 [00:02<00:00,  5.51it/s]\n",
      "100%|███████████████████████████████████████████| 13/13 [00:02<00:00,  5.39it/s]\n",
      "100%|███████████████████████████████████████████| 13/13 [00:02<00:00,  5.47it/s]\n",
      "100%|███████████████████████████████████████████| 13/13 [00:02<00:00,  5.41it/s]\n",
      "100%|███████████████████████████████████████████| 13/13 [00:02<00:00,  5.47it/s]\n",
      "100%|███████████████████████████████████████████| 13/13 [00:02<00:00,  5.46it/s]\n",
      "100%|███████████████████████████████████████████| 13/13 [00:02<00:00,  5.55it/s]\n",
      "100%|███████████████████████████████████████████| 13/13 [00:02<00:00,  5.43it/s]\n",
      "100%|███████████████████████████████████████████| 13/13 [00:02<00:00,  5.55it/s]\n",
      "100%|███████████████████████████████████████████| 13/13 [00:02<00:00,  5.46it/s]\n",
      "100%|███████████████████████████████████████████| 13/13 [00:02<00:00,  5.54it/s]\n",
      "100%|███████████████████████████████████████████| 13/13 [00:02<00:00,  5.43it/s]\n",
      "100%|███████████████████████████████████████████| 13/13 [00:02<00:00,  5.55it/s]\n",
      "100%|███████████████████████████████████████████| 13/13 [00:02<00:00,  5.43it/s]\n",
      "100%|███████████████████████████████████████████| 13/13 [00:02<00:00,  5.51it/s]\n",
      "100%|███████████████████████████████████████████| 13/13 [00:02<00:00,  5.43it/s]\n",
      "100%|███████████████████████████████████████████| 13/13 [00:02<00:00,  5.48it/s]\n",
      "100%|███████████████████████████████████████████| 13/13 [00:02<00:00,  5.48it/s]\n",
      "100%|███████████████████████████████████████████| 13/13 [00:02<00:00,  5.49it/s]\n",
      "100%|███████████████████████████████████████████| 13/13 [00:02<00:00,  5.49it/s]\n",
      "100%|███████████████████████████████████████████| 13/13 [00:02<00:00,  5.45it/s]\n",
      "100%|███████████████████████████████████████████| 13/13 [00:02<00:00,  5.40it/s]\n",
      "100%|███████████████████████████████████████████| 13/13 [00:02<00:00,  5.44it/s]\n",
      "100%|███████████████████████████████████████████| 13/13 [00:02<00:00,  5.41it/s]\n",
      "100%|███████████████████████████████████████████| 13/13 [00:02<00:00,  5.53it/s]\n",
      "100%|███████████████████████████████████████████| 13/13 [00:02<00:00,  5.46it/s]\n",
      "100%|███████████████████████████████████████████| 13/13 [00:02<00:00,  5.47it/s]\n",
      "100%|███████████████████████████████████████████| 13/13 [00:02<00:00,  5.46it/s]\n",
      "100%|███████████████████████████████████████████| 13/13 [00:02<00:00,  5.47it/s]\n",
      "100%|███████████████████████████████████████████| 13/13 [00:02<00:00,  5.41it/s]\n",
      "100%|███████████████████████████████████████████| 13/13 [00:02<00:00,  5.50it/s]\n",
      "100%|███████████████████████████████████████████| 13/13 [00:02<00:00,  5.44it/s]\n",
      "100%|███████████████████████████████████████████| 13/13 [00:02<00:00,  5.53it/s]\n",
      "100%|███████████████████████████████████████████| 13/13 [00:02<00:00,  5.45it/s]\n",
      "100%|███████████████████████████████████████████| 13/13 [00:02<00:00,  5.56it/s]\n",
      "100%|███████████████████████████████████████████| 13/13 [00:02<00:00,  5.42it/s]\n",
      "100%|███████████████████████████████████████████| 13/13 [00:02<00:00,  5.50it/s]\n",
      "100%|███████████████████████████████████████████| 13/13 [00:02<00:00,  5.46it/s]\n",
      "100%|███████████████████████████████████████████| 13/13 [00:02<00:00,  5.53it/s]\n",
      "100%|███████████████████████████████████████████| 13/13 [00:02<00:00,  5.40it/s]\n",
      "100%|███████████████████████████████████████████| 13/13 [00:02<00:00,  5.46it/s]\n",
      "100%|███████████████████████████████████████████| 13/13 [00:02<00:00,  5.39it/s]\n",
      "100%|███████████████████████████████████████████| 13/13 [00:02<00:00,  5.47it/s]\n",
      "100%|███████████████████████████████████████████| 13/13 [00:02<00:00,  5.37it/s]\n",
      "100%|███████████████████████████████████████████| 13/13 [00:02<00:00,  5.49it/s]\n",
      "100%|███████████████████████████████████████████| 13/13 [00:02<00:00,  5.38it/s]\n",
      "100%|███████████████████████████████████████████| 13/13 [00:02<00:00,  5.51it/s]\n",
      "100%|███████████████████████████████████████████| 13/13 [00:02<00:00,  5.45it/s]\n",
      "100%|███████████████████████████████████████████| 13/13 [00:02<00:00,  5.49it/s]\n"
     ]
    }
   ],
   "source": [
    "with open('results/fir/dst_generations_all_layers.pkl', 'rb') as fp:\n",
    "    dst_gens = pickle.load(fp)\n",
    "\n",
    "dst_vecs = { layer:\n",
    "    [torch.from_numpy(dst_gens[layer]['generations'][i][0]['vector']).cuda() for i in range(len(dst_gens[layer]['generations']))]\n",
    "for layer in layers }\n",
    "\n",
    "dst_dots = { layer: [ { 'real': [], 'fake': [] } for vec_id in range(len(dst_vecs[layer])) ] for layer in layers }\n",
    "\n",
    "for layer in layers:\n",
    "    for i, vec in enumerate(dst_vecs[layer]):\n",
    "        dst_dots[layer][i]['real'] = get_dots_on_prompts(model, tokenizer, get_dataset.real_prompts, vec, layer)\n",
    "        dst_dots[layer][i]['fake'] = get_dots_on_prompts(model, tokenizer, get_dataset.fake_prompts, vec, layer)"
   ]
  },
  {
   "cell_type": "code",
   "execution_count": 111,
   "id": "fce31a53-d244-49ed-99de-a05d8ecc738f",
   "metadata": {},
   "outputs": [],
   "source": [
    "with open('results/fir/dst_dots.pkl', 'wb') as fp:\n",
    "    pickle.dump(dst_dots, fp)"
   ]
  },
  {
   "cell_type": "markdown",
   "id": "51589e2b-6eae-4c83-b24d-7110da9c637c",
   "metadata": {},
   "source": [
    "### Reentrant"
   ]
  },
  {
   "cell_type": "code",
   "execution_count": 240,
   "id": "c7608af5-03d0-4a8d-a238-f5efa4bf0097",
   "metadata": {
    "scrolled": true
   },
   "outputs": [
    {
     "name": "stderr",
     "output_type": "stream",
     "text": [
      "100%|███████████████████████████████████████████| 13/13 [00:02<00:00,  5.60it/s]\n",
      "100%|███████████████████████████████████████████| 13/13 [00:02<00:00,  5.68it/s]\n",
      "100%|███████████████████████████████████████████| 13/13 [00:02<00:00,  5.74it/s]\n",
      "100%|███████████████████████████████████████████| 13/13 [00:02<00:00,  5.69it/s]\n",
      "100%|███████████████████████████████████████████| 13/13 [00:02<00:00,  5.74it/s]\n",
      "100%|███████████████████████████████████████████| 13/13 [00:02<00:00,  5.79it/s]\n",
      "100%|███████████████████████████████████████████| 13/13 [00:02<00:00,  5.73it/s]\n",
      "100%|███████████████████████████████████████████| 13/13 [00:02<00:00,  5.74it/s]\n",
      "100%|███████████████████████████████████████████| 13/13 [00:02<00:00,  5.65it/s]\n",
      "100%|███████████████████████████████████████████| 13/13 [00:02<00:00,  5.66it/s]\n",
      "100%|███████████████████████████████████████████| 13/13 [00:02<00:00,  5.81it/s]\n",
      "100%|███████████████████████████████████████████| 13/13 [00:02<00:00,  5.68it/s]\n"
     ]
    }
   ],
   "source": [
    "with open('results/fir/reentrant_1_10_gens.pkl', 'rb') as fp:\n",
    "    reentrant_gens = pickle.load(fp)\n",
    "\n",
    "reentrant_vecs = [torch.from_numpy(reentrant_gens['generations'][i][0]['vector']).cuda() for i in range(len(reentrant_gens['generations']))]\n",
    "\n",
    "reentrant_dots = [ { 'real': [], 'fake': [] } for vec_id in range(len(reentrant_vecs)) ]\n",
    "\n",
    "for i, vec in enumerate(reentrant_vecs):\n",
    "    reentrant_dots[i]['real'] = get_dots_on_prompts(model, tokenizer, get_dataset.real_prompts, vec, 10)\n",
    "    reentrant_dots[i]['fake'] = get_dots_on_prompts(model, tokenizer, get_dataset.fake_prompts, vec, 10)"
   ]
  },
  {
   "cell_type": "markdown",
   "id": "42e1a514-476b-4a11-af14-89b3cd8f7486",
   "metadata": {},
   "source": [
    "### Plot the dots (Fig. 6)"
   ]
  },
  {
   "cell_type": "code",
   "execution_count": 197,
   "id": "1f5b2eaf-f1e4-4694-8191-f2b407a57fa7",
   "metadata": {},
   "outputs": [],
   "source": [
    "with open('results/fir/src_dots.pkl', 'rb') as fp:\n",
    "    src_dots = pickle.load(fp)\n",
    "\n",
    "with open('results/fir/dst_dots.pkl', 'rb') as fp:\n",
    "    dst_dots = pickle.load(fp)\n",
    "\n",
    "with open('results/fir/caa_dots.pkl', 'rb') as fp:\n",
    "    caa_dots = pickle.load(fp)"
   ]
  },
  {
   "cell_type": "code",
   "execution_count": 274,
   "id": "d94a313f-5039-4899-9a02-d79ed76357cd",
   "metadata": {},
   "outputs": [
    {
     "data": {
      "image/png": "[encoded data removed]",
      "text/plain": [
       "<Figure size 600x300 with 1 Axes>"
      ]
     },
     "metadata": {},
     "output_type": "display_data"
    }
   ],
   "source": [
    "import numpy as np\n",
    "import sklearn.metrics\n",
    "\n",
    "plt.rcParams['font.family'] = 'serif'\n",
    "plt.rcParams['font.size'] = 11\n",
    "plt.rcParams['lines.linewidth'] = 5\n",
    "plt.rcParams['lines.markersize'] = 15\n",
    "\n",
    "\n",
    "mean_real_dots = { layer : flatten( [ cur_vec_split['real'] for cur_vec_split in src_dots[layer]] ) for layer in src_dots.keys() }\n",
    "mean_fake_dots = { layer : flatten( [ cur_vec_split['fake'] for cur_vec_split in src_dots[layer]] ) for layer in src_dots.keys() }\n",
    "roc_aucs = {}\n",
    "for layer in src_dots.keys():\n",
    "    roc_aucs[layer] = sklearn.metrics.roc_auc_score(\n",
    "        np.concatenate([np.ones(len(mean_real_dots[layer])), np.zeros(len(mean_fake_dots[layer]))]),\n",
    "        np.concatenate([mean_real_dots[layer], mean_fake_dots[layer]])\n",
    "    )\n",
    "plt.plot(roc_aucs.keys(), roc_aucs.values(), marker='.', label='Suppression')\n",
    "\n",
    "mean_real_dots = { layer : flatten( [ cur_vec_split['real'] for cur_vec_split in dst_dots[layer]] ) for layer in dst_dots.keys() }\n",
    "mean_fake_dots = { layer : flatten( [ cur_vec_split['fake'] for cur_vec_split in dst_dots[layer]] ) for layer in dst_dots.keys() }\n",
    "roc_aucs = {}\n",
    "for layer in src_dots.keys():\n",
    "    roc_aucs[layer] = sklearn.metrics.roc_auc_score(\n",
    "        np.concatenate([np.ones(len(mean_real_dots[layer])), np.zeros(len(mean_fake_dots[layer]))]),\n",
    "        np.concatenate([mean_real_dots[layer], mean_fake_dots[layer]])\n",
    "    )\n",
    "plt.plot(roc_aucs.keys(), roc_aucs.values(), marker='.', label='Promotion')\n",
    "\n",
    "mean_real_dots = { layer : caa_dots[layer]['real'] for layer in caa_dots.keys() }\n",
    "mean_fake_dots = { layer : caa_dots[layer]['fake'] for layer in caa_dots.keys() }\n",
    "roc_aucs = {}\n",
    "for layer in src_dots.keys():\n",
    "    roc_aucs[layer] = sklearn.metrics.roc_auc_score(\n",
    "        np.concatenate([np.ones(len(mean_real_dots[layer])), np.zeros(len(mean_fake_dots[layer]))]),\n",
    "        np.concatenate([mean_real_dots[layer], mean_fake_dots[layer]])\n",
    "    )\n",
    "plt.plot(roc_aucs.keys(), roc_aucs.values(), marker='.', label='CAA')\n",
    "\n",
    "mean_real_dots = flatten( [ cur_vec_split['real'] for cur_vec_split in reentrant_dots] )\n",
    "mean_fake_dots = flatten( [ cur_vec_split['fake'] for cur_vec_split in reentrant_dots] )\n",
    "roc_auc = sklearn.metrics.roc_auc_score(\n",
    "    np.concatenate([np.ones(len(mean_real_dots)), np.zeros(len(mean_fake_dots))]),\n",
    "    np.concatenate([mean_real_dots, mean_fake_dots])\n",
    ")\n",
    "plt.axhline(roc_auc, label='Reentrant', color='C3')\n",
    "\n",
    "#plt.title(\"ROC-AUC of steering vector dot products\\nfor classifying real/fake prompts\")\n",
    "plt.ylabel(\"ROC-AUC\", fontsize=14)\n",
    "plt.xlabel(\"Layer\", fontsize=14)\n",
    "\n",
    "plt.legend()\n",
    "\n",
    "plt.gca().figure.set_size_inches(6,3)\n",
    "\n",
    "plt.show()"
   ]
  }
 ],
 "metadata": {
  "kernelspec": {
   "display_name": "Python 3 (ipykernel)",
   "language": "python",
   "name": "python3"
  },
  "language_info": {
   "codemirror_mode": {
    "name": "ipython",
    "version": 3
   },
   "file_extension": ".py",
   "mimetype": "text/x-python",
   "name": "python",
   "nbconvert_exporter": "python",
   "pygments_lexer": "ipython3",
   "version": "3.10.14"
  }
 },
 "nbformat": 4,
 "nbformat_minor": 5
}
